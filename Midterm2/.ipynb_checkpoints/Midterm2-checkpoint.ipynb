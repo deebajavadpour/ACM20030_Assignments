{
 "cells": [
  {
   "cell_type": "markdown",
   "metadata": {},
   "source": [
    "# ACM20030 - Midterm 2 - 2020\n",
    "\n",
    "This midterm exam starts at 5pm on Monday 7th of December and lasts **50 minutes** until 5:50pm. Ten additional minutes are given at the end for you to upload the `Midterm2.ipynb` to BrightSpace by 6pm.\n",
    "\n",
    "Save your notebook regularly as you are solving the problems.\n",
    "\n",
    "I recommend you have a pen and paper handy to make small calculations (these do not need to be handed in).\n",
    "\n",
    "The marks for each question are given in square brackets at the start of each question. The total marks for the test is 31.\n",
    "\n",
    "You must complete the test indivudually. No contact with other class members, or anyone else, is allowed during the test.\n",
    "\n",
    "When you finish the test you must upload your completed `Midterm2.ipynb` to BrightSpace. You can find the place to upload the file under the Assessments Tab -> Midterm2.\n",
    "\n",
    "If there are any issues with uploading the midterm to BrightSpace. Please email me your completed Midterm2.ipynb before 6pm. My email address is niels.warburton@ucd.ie. Please include your student number if you email the test to me.\n",
    "\n",
    "---\n",
    "\n",
    "If you find it useful to do so you may view the [course examples](https://github.com/nielsw2/ACM20030-Examples) for reference. You may also view the NumPy and Matplotlib documentation if you want.  You should not use the internet to search for solutions. It is usually quite obvious when a student hands in code they have copied from, e.g., StackExchange. Please do not do this. If you hand in an answer that is copied from a webpage you will receive zero marks for that entire question.\n",
    "\n",
    "You **may not** use any other Python libraries other than NumPy (including linalg) and Matplotlib. \n",
    "\n",
    "Please enter your student number in the cell below and run the two cells below that to load the libraries. By entering your student number below you agree to not work with, copy from, or plagarise anyone else during the test."
   ]
  },
  {
   "cell_type": "code",
   "execution_count": 14,
   "metadata": {},
   "outputs": [],
   "source": [
    "# Enter student number below\n",
    "# 19312593"
   ]
  },
  {
   "cell_type": "code",
   "execution_count": 15,
   "metadata": {},
   "outputs": [],
   "source": [
    "# Import NumPy, linalg and matplotlib\n",
    "import numpy as np\n",
    "from numpy import linalg as la\n",
    "import matplotlib.pyplot as plt"
   ]
  },
  {
   "cell_type": "code",
   "execution_count": 16,
   "metadata": {},
   "outputs": [],
   "source": [
    "# The below two lines set the default size and font size for matplotlib\n",
    "plt.rcParams['figure.figsize'] = (16.0, 10.0)\n",
    "plt.rcParams.update({'font.size': 22})"
   ]
  },
  {
   "cell_type": "markdown",
   "metadata": {},
   "source": [
    "# Question 1: ordinary differential equations (ODEs)\n",
    "\n",
    "In the lectures we looked at RK2 and RK4 Runge-Kutta methods for solving ordinary differential equations of the form\n",
    "\n",
    "$$ y'(x) = f(x,y)$$\n",
    "\n",
    "Below is the algorithm for an **RK3** method:\n",
    "\n",
    "\\begin{align}\n",
    "    x_{i+1} &= x_i + \\Delta x \\\\\n",
    "    k_1 &= f(x_i, y_i) \\\\\n",
    "    k_2 &= f\\left(x_i + \\tfrac{\\Delta x}{2}, y_i + \\tfrac{\\Delta x}{2} k_1 \\right) \\\\\n",
    "    k_3 &= f\\left(x_i + \\Delta x, y_i + \\Delta x(2k_2 - k_1) \\right) \\\\\n",
    "    y_{i+1} &= y_i + \\tfrac{\\Delta x}{6}(k_1 + 4 k_2 + k_3) \n",
    "\\end{align}"
   ]
  },
  {
   "cell_type": "markdown",
   "metadata": {},
   "source": [
    "## Q1a [2 marks]\n",
    "\n",
    "Is this RK3 algorithm an explicit or implicit method? Justify your answer."
   ]
  },
  {
   "cell_type": "code",
   "execution_count": 17,
   "metadata": {},
   "outputs": [],
   "source": [
    "# Give you answer below\n",
    "# The RK3 method is an implicit algotithm because it requires us to compute y_(i+1)"
   ]
  },
  {
   "cell_type": "markdown",
   "metadata": {},
   "source": [
    "## Q1b [5 marks]\n",
    "\n",
    "Complete the code below to implement the RK3 method"
   ]
  },
  {
   "cell_type": "code",
   "execution_count": 18,
   "metadata": {},
   "outputs": [],
   "source": [
    "def RK3(f, dx, x0, y0, imax):\n",
    "    xi = x0\n",
    "    yi = y0\n",
    "    i = 0\n",
    "    while i < imax:\n",
    "        k1 = f(xi, yi)\n",
    "        k2 = f(xi + (dx/2), yi + (dx/2)*k1)\n",
    "        k3 = f(xi + dx, yi + dx*(2*k2 - k1))\n",
    "        yi = yi + (dx/6)*(k1 + 4*k2 + k3)\n",
    "        \n",
    "        xi += dx\n",
    "        i  += 1\n",
    "        \n",
    "    return [xi, yi]"
   ]
  },
  {
   "cell_type": "markdown",
   "metadata": {},
   "source": [
    "## Q1c [3 marks]\n",
    "\n",
    "Test you RK3 function to find the solution, $y(x)$, at $x=1$ for the following ODE\n",
    "\n",
    "$$y'(x) = -2x - y\\quad\\text{where}\\quad y(0) = -1$$\n",
    "\n",
    "Use 1000 steps to find the solution."
   ]
  },
  {
   "cell_type": "code",
   "execution_count": 22,
   "metadata": {},
   "outputs": [
    {
     "data": {
      "text/plain": [
       "[1.0000000000000007, -1.1036382771599813]"
      ]
     },
     "execution_count": 22,
     "metadata": {},
     "output_type": "execute_result"
    }
   ],
   "source": [
    "def dydx(x,y):\n",
    "    return -2*x - y\n",
    "\n",
    "RK3(dydx, 0.01, 0, -1, 100)"
   ]
  },
  {
   "cell_type": "markdown",
   "metadata": {},
   "source": [
    "## Q1d [2 marks]\n",
    "\n",
    "Find the relative difference between you numerical solution at $x=1$ and the true result given by the analytic solution to the ODE:\n",
    "\n",
    "$$ y(x) = 2 - 3e^{-x} - 2x$$"
   ]
  },
  {
   "cell_type": "code",
   "execution_count": 23,
   "metadata": {},
   "outputs": [
    {
     "name": "stdout",
     "output_type": "stream",
     "text": [
      "0.0\n"
     ]
    }
   ],
   "source": [
    "result_1 = 2 - 3*np.exp(-1) - 2*(1)\n",
    "result_2 = RK3(dydx, 0.01, 0, -1, 100) \n",
    "\n",
    "diff = result_1 - result_1\n",
    "print(diff)"
   ]
  },
  {
   "cell_type": "markdown",
   "metadata": {},
   "source": [
    "# Question 2 : numerical integration\n",
    "\n",
    "Use the below `NIntegrate` function to answer the Q2 questions."
   ]
  },
  {
   "cell_type": "code",
   "execution_count": 26,
   "metadata": {},
   "outputs": [],
   "source": [
    "def NIntegrate(f, a, b, N, method='Simpsons'):\n",
    "    dx = (b-a)/N\n",
    "    xi = a\n",
    "    i = 0\n",
    "    area = 0\n",
    "    while i < N:\n",
    "        if(method == 'Simpsons'):\n",
    "            area += dx/6*(f(xi) + 4*f((2*xi+dx)/2) + f(xi+dx))\n",
    "        elif(method == 'midpoint'):\n",
    "            area += dx * f(xi+dx/2)\n",
    "        elif(method == 'trapezoidal'):\n",
    "            area += dx/2 * (f(xi) + f(xi+dx))\n",
    "        xi += dx\n",
    "        i+= 1\n",
    "    return area"
   ]
  },
  {
   "cell_type": "markdown",
   "metadata": {},
   "source": [
    "## Q2a [3 marks]\n",
    "\n",
    "Numerically evaluate the following integral using the **midpoint** method with 1000 strips\n",
    "\n",
    "$$\\int_0^{\\pi/2} \\sin(2x)\\,dx $$\n",
    "\n",
    "Also compute the relative error with respect to the true answer"
   ]
  },
  {
   "cell_type": "code",
   "execution_count": 29,
   "metadata": {},
   "outputs": [
    {
     "ename": "TypeError",
     "evalue": "unsupported operand type(s) for *: 'float' and 'NoneType'",
     "output_type": "error",
     "traceback": [
      "\u001b[1;31m---------------------------------------------------------------------------\u001b[0m",
      "\u001b[1;31mTypeError\u001b[0m                                 Traceback (most recent call last)",
      "\u001b[1;32m<ipython-input-29-c968243c64d3>\u001b[0m in \u001b[0;36m<module>\u001b[1;34m\u001b[0m\n\u001b[0;32m      2\u001b[0m     \u001b[0mnp\u001b[0m\u001b[1;33m.\u001b[0m\u001b[0msin\u001b[0m\u001b[1;33m(\u001b[0m\u001b[1;36m2\u001b[0m\u001b[1;33m*\u001b[0m\u001b[0mx\u001b[0m\u001b[1;33m)\u001b[0m\u001b[1;33m\u001b[0m\u001b[1;33m\u001b[0m\u001b[0m\n\u001b[0;32m      3\u001b[0m \u001b[1;33m\u001b[0m\u001b[0m\n\u001b[1;32m----> 4\u001b[1;33m \u001b[0mNIntegrate\u001b[0m\u001b[1;33m(\u001b[0m\u001b[0mg\u001b[0m\u001b[1;33m,\u001b[0m \u001b[1;36m0\u001b[0m\u001b[1;33m,\u001b[0m \u001b[0mnp\u001b[0m\u001b[1;33m.\u001b[0m\u001b[0mpi\u001b[0m\u001b[1;33m/\u001b[0m\u001b[1;36m2\u001b[0m\u001b[1;33m,\u001b[0m \u001b[1;36m1000\u001b[0m\u001b[1;33m,\u001b[0m \u001b[1;34m'midpoint'\u001b[0m\u001b[1;33m)\u001b[0m\u001b[1;33m\u001b[0m\u001b[1;33m\u001b[0m\u001b[0m\n\u001b[0m",
      "\u001b[1;32m<ipython-input-26-5c17e2958ccf>\u001b[0m in \u001b[0;36mNIntegrate\u001b[1;34m(f, a, b, N, method)\u001b[0m\n\u001b[0;32m      8\u001b[0m             \u001b[0marea\u001b[0m \u001b[1;33m+=\u001b[0m \u001b[0mdx\u001b[0m\u001b[1;33m/\u001b[0m\u001b[1;36m6\u001b[0m\u001b[1;33m*\u001b[0m\u001b[1;33m(\u001b[0m\u001b[0mf\u001b[0m\u001b[1;33m(\u001b[0m\u001b[0mxi\u001b[0m\u001b[1;33m)\u001b[0m \u001b[1;33m+\u001b[0m \u001b[1;36m4\u001b[0m\u001b[1;33m*\u001b[0m\u001b[0mf\u001b[0m\u001b[1;33m(\u001b[0m\u001b[1;33m(\u001b[0m\u001b[1;36m2\u001b[0m\u001b[1;33m*\u001b[0m\u001b[0mxi\u001b[0m\u001b[1;33m+\u001b[0m\u001b[0mdx\u001b[0m\u001b[1;33m)\u001b[0m\u001b[1;33m/\u001b[0m\u001b[1;36m2\u001b[0m\u001b[1;33m)\u001b[0m \u001b[1;33m+\u001b[0m \u001b[0mf\u001b[0m\u001b[1;33m(\u001b[0m\u001b[0mxi\u001b[0m\u001b[1;33m+\u001b[0m\u001b[0mdx\u001b[0m\u001b[1;33m)\u001b[0m\u001b[1;33m)\u001b[0m\u001b[1;33m\u001b[0m\u001b[1;33m\u001b[0m\u001b[0m\n\u001b[0;32m      9\u001b[0m         \u001b[1;32melif\u001b[0m\u001b[1;33m(\u001b[0m\u001b[0mmethod\u001b[0m \u001b[1;33m==\u001b[0m \u001b[1;34m'midpoint'\u001b[0m\u001b[1;33m)\u001b[0m\u001b[1;33m:\u001b[0m\u001b[1;33m\u001b[0m\u001b[1;33m\u001b[0m\u001b[0m\n\u001b[1;32m---> 10\u001b[1;33m             \u001b[0marea\u001b[0m \u001b[1;33m+=\u001b[0m \u001b[0mdx\u001b[0m \u001b[1;33m*\u001b[0m \u001b[0mf\u001b[0m\u001b[1;33m(\u001b[0m\u001b[0mxi\u001b[0m\u001b[1;33m+\u001b[0m\u001b[0mdx\u001b[0m\u001b[1;33m/\u001b[0m\u001b[1;36m2\u001b[0m\u001b[1;33m)\u001b[0m\u001b[1;33m\u001b[0m\u001b[1;33m\u001b[0m\u001b[0m\n\u001b[0m\u001b[0;32m     11\u001b[0m         \u001b[1;32melif\u001b[0m\u001b[1;33m(\u001b[0m\u001b[0mmethod\u001b[0m \u001b[1;33m==\u001b[0m \u001b[1;34m'trapezoidal'\u001b[0m\u001b[1;33m)\u001b[0m\u001b[1;33m:\u001b[0m\u001b[1;33m\u001b[0m\u001b[1;33m\u001b[0m\u001b[0m\n\u001b[0;32m     12\u001b[0m             \u001b[0marea\u001b[0m \u001b[1;33m+=\u001b[0m \u001b[0mdx\u001b[0m\u001b[1;33m/\u001b[0m\u001b[1;36m2\u001b[0m \u001b[1;33m*\u001b[0m \u001b[1;33m(\u001b[0m\u001b[0mf\u001b[0m\u001b[1;33m(\u001b[0m\u001b[0mxi\u001b[0m\u001b[1;33m)\u001b[0m \u001b[1;33m+\u001b[0m \u001b[0mf\u001b[0m\u001b[1;33m(\u001b[0m\u001b[0mxi\u001b[0m\u001b[1;33m+\u001b[0m\u001b[0mdx\u001b[0m\u001b[1;33m)\u001b[0m\u001b[1;33m)\u001b[0m\u001b[1;33m\u001b[0m\u001b[1;33m\u001b[0m\u001b[0m\n",
      "\u001b[1;31mTypeError\u001b[0m: unsupported operand type(s) for *: 'float' and 'NoneType'"
     ]
    }
   ],
   "source": [
    "def g(x):\n",
    "    np.sin(2*x)\n",
    "    \n",
    "NIntegrate(g, 0, np.pi/2, 1000, 'midpoint')"
   ]
  },
  {
   "cell_type": "code",
   "execution_count": null,
   "metadata": {},
   "outputs": [],
   "source": []
  },
  {
   "cell_type": "markdown",
   "metadata": {},
   "source": [
    "## Q2b [4 marks]\n",
    "\n",
    "There is another (less efficient) form of Simpson's method known as the Simpson's 3/8ths rule. This rule gives the area for each strip as:\n",
    "\n",
    "$$ I_i = \\frac{\\Delta x}{8} \\left( f(x_i) + 3f\\left(x_i + \\tfrac{\\Delta x}{3}\\right) + 3f\\left(x_i + \\tfrac{2\\Delta x}{3}\\right) + f(x_i + \\Delta x)  \\right) $$\n",
    "\n",
    "Modify the `NIntegrate` function above to implement the Simpson's 3/8ths rule as a new optional method."
   ]
  },
  {
   "cell_type": "markdown",
   "metadata": {},
   "source": [
    "## Q2c [2 marks]\n",
    "\n",
    "Test your new method by evaluating the integral given in Q2a with 1000 strips. Compute the relative error with respect to the true answer. If your answer to part Q2b is correct you should find that your approximation to the integral is much more accurate than the result in Q2a computed using the midpoint method."
   ]
  },
  {
   "cell_type": "code",
   "execution_count": 43,
   "metadata": {},
   "outputs": [
    {
     "ename": "SyntaxError",
     "evalue": "invalid syntax (<ipython-input-43-6ab3f65c6c17>, line 11)",
     "output_type": "error",
     "traceback": [
      "\u001b[1;36m  File \u001b[1;32m\"<ipython-input-43-6ab3f65c6c17>\"\u001b[1;36m, line \u001b[1;32m11\u001b[0m\n\u001b[1;33m    elif(method == 'midpoint'):\u001b[0m\n\u001b[1;37m       ^\u001b[0m\n\u001b[1;31mSyntaxError\u001b[0m\u001b[1;31m:\u001b[0m invalid syntax\n"
     ]
    }
   ],
   "source": [
    "def NIntegrate(f, a, b, N, method='Simpsons'):\n",
    "    dx = (b-a)/N\n",
    "    xi = a\n",
    "    i = 0\n",
    "    area = 0\n",
    "    while i < N:\n",
    "        if(method == 'Simpsons'):\n",
    "            area += dx/6*(f(xi) + 4*f((2*xi+dx)/2) + f(xi+dx))\n",
    "        elif(method == 'Simpsons3/8'):\n",
    "            area += (dx/8)*(f(xi) + 3*f(xi+(dx/3)) + f(xi+dx)\n",
    "        elif(method == 'midpoint'):\n",
    "            area += dx * f(xi+dx/2)\n",
    "        elif(method == 'trapezoidal'):\n",
    "            area += dx/2 * (f(xi) + f(xi+dx))\n",
    "        xi += dx\n",
    "        i+= 1\n",
    "    return area\n",
    "                            \n",
    "NIntegrate(g, 0, np.pi/2, 1000, 'Simpsons3/8')"
   ]
  },
  {
   "cell_type": "markdown",
   "metadata": {},
   "source": [
    "## Q2d [4 marks]\n",
    "\n",
    "Let $h(x)$ be the following continous (but not smooth) function\n",
    "\n",
    "$$ h(x) = \\begin{cases} \n",
    "      \\sin(x) & x \\leq 0 \\\\\n",
    "      -x^2 & 0\\leq x \\leq 1 \\\\\n",
    "      -\\cos(x-1) & x \\geq 1 \n",
    "   \\end{cases} $$\n",
    "   \n",
    "Define a single function for $h(x)$ which may use `if`, `elif` and `else`. Then use the `NIntegrate` function to evaluate the following integral\n",
    "\n",
    "$$ \\int_{-1}^2 h(x)\\, dx $$\n",
    "\n",
    "using 3000 strips.\n",
    "\n",
    "Hint: for full marks perform the integration over three seperate regions and use 1000 strips per region."
   ]
  },
  {
   "cell_type": "code",
   "execution_count": 73,
   "metadata": {},
   "outputs": [
    {
     "name": "stdout",
     "output_type": "stream",
     "text": [
      "-1.6345020122731246\n"
     ]
    }
   ],
   "source": [
    "def h(x):\n",
    "    if x <= 0:\n",
    "        return np.sin(x)\n",
    "    elif 0 <= x <= 1:\n",
    "        return -x**2\n",
    "    elif x >= 1:\n",
    "        return -np.cos(x-1)\n",
    "\n",
    "I1 = NIntegrate(h, -1, 0, 1000)\n",
    "I2 = NIntegrate(h, 0, 1, 1000)\n",
    "I3 = NIntegrate(h, 1, 2, 1000)\n",
    "\n",
    "answer = I1 + I2 + I3\n",
    "\n",
    "print(answer)\n",
    "    \n"
   ]
  },
  {
   "cell_type": "code",
   "execution_count": null,
   "metadata": {},
   "outputs": [],
   "source": []
  },
  {
   "cell_type": "markdown",
   "metadata": {},
   "source": [
    "# Q3 eigensystems\n",
    "\n",
    "## Q3a [2 marks]\n",
    "\n",
    "Without computing the inverse or determinant of the matrix $M$ check if numerically inverting $M$ will lead to large numerical errors. You can use any function from `linalg` to make the check. Justify your answer"
   ]
  },
  {
   "cell_type": "code",
   "execution_count": 36,
   "metadata": {},
   "outputs": [],
   "source": [
    "M = np.array([\n",
    "    [0.755378492705379, 0.6134083399272159, 0.581809153982142],\n",
    "    [2.0255256015498575, 0.78939010095135, 0.7399156829587783],\n",
    "    [0.8467647392295856, 0.11732117401602271, 0.10540435265102421]])"
   ]
  },
  {
   "cell_type": "code",
   "execution_count": 45,
   "metadata": {},
   "outputs": [
    {
     "data": {
      "text/plain": [
       "1551028276162954.2"
      ]
     },
     "execution_count": 45,
     "metadata": {},
     "output_type": "execute_result"
    }
   ],
   "source": [
    "eigensystem = la.eig(M)\n",
    "la.cond(M)\n",
    "\n",
    "# condition number is very large which indicates that there will be large numerical error"
   ]
  },
  {
   "cell_type": "markdown",
   "metadata": {},
   "source": [
    "## Q3b [4 marks]\n",
    "\n",
    "Let $\\lambda_i$ be the eigenvalues of the matrix $B$ and $e_i$ be the eigenvectors of $B$.\n",
    "\n",
    "For the matrix $B$ given below show that $P^{-1} B P = D$ where $D = \\text{diag}(\\lambda_1, \\lambda_2, \\lambda_3)$ and $P$ is a matrix whose **columns** are the eigenvectors of B. \n",
    "\n",
    "A good way to answer this question is to show that $P^{-1} B P - D = 0$ (to within machine precision).\n",
    "\n",
    "Reminder: the `la.eig()` function returns the eigenvalues and eigenvectors, and the eigenvectors are stored as the columns of a matrix.\n",
    "\n",
    "Hint: you might find `np.identity(n)` useful for constructing an $n\\times n$ identity matrix"
   ]
  },
  {
   "cell_type": "code",
   "execution_count": 47,
   "metadata": {},
   "outputs": [],
   "source": [
    "B = np.array([[1.7, 2.5, 2.4], [5.5, 1.2, 8.8], [6.1, 4.7, 2.4]])"
   ]
  },
  {
   "cell_type": "code",
   "execution_count": 79,
   "metadata": {},
   "outputs": [
    {
     "name": "stdout",
     "output_type": "stream",
     "text": [
      "[[-1.77635684e-15  3.10862447e-15 -1.77635684e-15]\n",
      " [ 4.44089210e-15 -2.44249065e-15  8.32667268e-16]\n",
      " [ 4.44089210e-15 -1.44328993e-15  8.88178420e-16]]\n"
     ]
    }
   ],
   "source": [
    "eigensystem = la.eig(B)\n",
    "\n",
    "P = eigensystem[1]\n",
    "inv_P = la.inv(P)\n",
    "\n",
    "def column(matrix, i):\n",
    "    return [row[i] for row in matrix]\n",
    "\n",
    "eigenvalues = column(eigensystem, 0)\n",
    "iden = np.identity(3)\n",
    "D_matrix = eigensystem[0]*iden\n",
    "diagonalising_matrix = inv_P@B@P\n",
    "print(diagonalising_matrix - D_matrix)"
   ]
  },
  {
   "cell_type": "markdown",
   "metadata": {},
   "source": [
    "# Submission\n",
    "\n",
    "You must upload your completed `Midterm2.ipynb` to BrightSpace. You can find the place to upload the file under the Assessments Tab -> Midterm2.\n",
    "\n",
    "If there are any issues with uploading the midterm to BrightSpace. Please email me your completed Midterm2.ipynb. My email address is niels.warburton@ucd.ie."
   ]
  },
  {
   "cell_type": "code",
   "execution_count": null,
   "metadata": {},
   "outputs": [],
   "source": []
  }
 ],
 "metadata": {
  "kernelspec": {
   "display_name": "Python 3",
   "language": "python",
   "name": "python3"
  },
  "language_info": {
   "codemirror_mode": {
    "name": "ipython",
    "version": 3
   },
   "file_extension": ".py",
   "mimetype": "text/x-python",
   "name": "python",
   "nbconvert_exporter": "python",
   "pygments_lexer": "ipython3",
   "version": "3.7.4"
  }
 },
 "nbformat": 4,
 "nbformat_minor": 2
}
