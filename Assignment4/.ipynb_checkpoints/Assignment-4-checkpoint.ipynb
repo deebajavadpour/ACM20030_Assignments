{
 "cells": [
  {
   "cell_type": "markdown",
   "metadata": {},
   "source": [
    "# Assignment 4\n",
    "\n",
    "This assignment covers material on numerical integration.\n",
    "\n",
    "The breakdown of the marks is as follows:\n",
    "\n",
    "Question 0 - [1 mark]  \n",
    "Question 1 - [4 marks]  \n",
    "Questino 2 - [5 marks]  \n",
    "Question 3 - [5 marks]  \n",
    "Question 4 - [5 marks]  \n",
    "Question 5 - [5 marks]  \n",
    "Question 6 - [5 marks]  "
   ]
  },
  {
   "cell_type": "markdown",
   "metadata": {},
   "source": [
    "# Question 0\n",
    "\n",
    "You should have saved this notebook to your ACM20030-Assignments folder. Now:\n",
    "- commit the notebook to your local repository\n",
    "- push the changes to the GitHub"
   ]
  },
  {
   "cell_type": "code",
   "execution_count": 1,
   "metadata": {},
   "outputs": [],
   "source": [
    "import numpy as np\n",
    "import matplotlib.pyplot as plt\n",
    "from scipy import integrate"
   ]
  },
  {
   "cell_type": "code",
   "execution_count": 2,
   "metadata": {},
   "outputs": [],
   "source": [
    "# The below commands make the font and image size bigger\n",
    "plt.rcParams.update({'font.size': 22})\n",
    "plt.rcParams[\"figure.figsize\"] = (15,10)"
   ]
  },
  {
   "cell_type": "markdown",
   "metadata": {},
   "source": [
    "# Question 1"
   ]
  },
  {
   "cell_type": "markdown",
   "metadata": {},
   "source": [
    "In this question you will be asked to evaluate definite integrals in the form:\n",
    "\n",
    "$$ \\int_a^b f(x)\\, dx$$ \n",
    "\n",
    "using Simpson's rule. You can copy code from the [examples repository](https://github.com/nielsw2/ACM20030-Examples) if you wish but if you do, remove all the plotting functionality. Do not use SciPy or any other library to evaluate the integrals, unless explicitly asked to do so.\n",
    "\n",
    "First write a function that integrates another function using Simpson's rule. This function will get used in multiple questions in this assignment."
   ]
  },
  {
   "cell_type": "code",
   "execution_count": 3,
   "metadata": {},
   "outputs": [],
   "source": [
    "def SimpsonsIntegrate(f, a, b, N, plotMethod=False):\n",
    "    dx = (b-a)/N\n",
    "    xi = a\n",
    "    area = 0\n",
    "    i = 0\n",
    "    while i < N:\n",
    "        # The below line applies Simpson's rule\n",
    "        area += dx/6*(f(xi) + 4*f((2*xi+dx)/2) + f(xi+dx))\n",
    "        \n",
    "        xi += dx\n",
    "        i += 1\n",
    "    return area"
   ]
  },
  {
   "cell_type": "markdown",
   "metadata": {},
   "source": [
    "## Q1 a\n",
    "\n",
    "Evaluate $$ \\frac{1}{\\sqrt{\\pi}}\\int^{15}_{-15} x^2 e^{-x^2}\\, dx$$\n",
    "\n",
    "Use enough strips so that the result is accurate to a relative error of of at least 1e-6. Hint: to within machine precision the above integral evaluates to  1/2 ."
   ]
  },
  {
   "cell_type": "code",
   "execution_count": 4,
   "metadata": {},
   "outputs": [
    {
     "name": "stdout",
     "output_type": "stream",
     "text": [
      "1.1102230246251565e-16\n"
     ]
    }
   ],
   "source": [
    "def f1(x):\n",
    "    return (1/np.sqrt(np.pi))*((x**2)*np.exp(-x**2))\n",
    "\n",
    "result_1 = SimpsonsIntegrate(f1, -15, 15, 100)\n",
    "exact_1 = 1/2 \n",
    "\n",
    "print (1 - result_1/exact_1)"
   ]
  },
  {
   "cell_type": "markdown",
   "metadata": {},
   "source": [
    "## Q1 b\n",
    "\n",
    "Evaluate\n",
    "\n",
    "$$\\int^{50}_{-50} \\frac{1}{\\cosh x}\\,dx $$\n",
    "\n",
    "Use enough strips so that the result is accurate to a relative error of  of at least `1e-6`. Hint: to within machine precision the above integral evaluates to $\\pi$."
   ]
  },
  {
   "cell_type": "code",
   "execution_count": 5,
   "metadata": {
    "scrolled": true
   },
   "outputs": [
    {
     "name": "stdout",
     "output_type": "stream",
     "text": [
      "3.567050765873603e-09\n"
     ]
    }
   ],
   "source": [
    "def f2(x):\n",
    "    return 1/np.cosh(x)\n",
    "\n",
    "result_2 = SimpsonsIntegrate(f2, -50, 50, 200)\n",
    "exact_2 = np.pi\n",
    "\n",
    "print(1 - result_2/exact_2)\n"
   ]
  },
  {
   "cell_type": "markdown",
   "metadata": {},
   "source": [
    "## Q1 c\n",
    "\n",
    "Use SciPy's `integrate.quad()` function to evaluate the integrals in Q1a and Q1b"
   ]
  },
  {
   "cell_type": "code",
   "execution_count": 6,
   "metadata": {},
   "outputs": [
    {
     "name": "stdout",
     "output_type": "stream",
     "text": [
      "(0.49999999999999994, 2.944943141948542e-12)\n",
      "(3.141592653589793, 5.5381858831212136e-11)\n"
     ]
    }
   ],
   "source": [
    "result_1_quad = integrate.quad(f1, -15, 15)\n",
    "result_2_quad = integrate.quad(f2, -50, 50)\n",
    "\n",
    "print(result_1_quad)\n",
    "print(result_2_quad)"
   ]
  },
  {
   "cell_type": "markdown",
   "metadata": {},
   "source": [
    "Now commit your notebook to your git repository and push the changes to GitHub.\n",
    "\n",
    "# Question 2 - improper integrals\n",
    "\n",
    "In the lectures we looked at numerically evaluating indefinite integrals of the form\n",
    "\n",
    "$$ \\int^b_a f(x)\\, dx$$ where $a,b$ are finite. What about improper integrals where either $a$, $b$ or both are infinite? The methods we know so far cannot immediately be applied to these cases.\n",
    "\n",
    "One method is to transform the integral using the result\n",
    "\n",
    "$$ \\int_a^b f(x)\\, dx = \\int^{1/a}_{1/b} t^{-2} f(t^{-1})\\, dt$$\n",
    "\n",
    "which holds so long as $a,b>0$."
   ]
  },
  {
   "cell_type": "markdown",
   "metadata": {},
   "source": [
    "## Q2 a\n",
    "\n",
    "Using the above result numerically evaluate the following integral\n",
    "\n",
    "$$ \\int^\\infty_1 \\frac{\\log(x)}{x^3}\\,dx $$\n",
    "\n",
    "using Simpson's rule. Use 100 strips to evaluate the integral.\n",
    "\n",
    "Hint: you will have to use an `if` statement inside your transformed function for to deal with $t=0$. For this case it is useful to note that $\\lim_{t\\rightarrow0} t \\log(1/t) = 0$."
   ]
  },
  {
   "cell_type": "code",
   "execution_count": 7,
   "metadata": {},
   "outputs": [
    {
     "name": "stderr",
     "output_type": "stream",
     "text": [
      "C:\\Users\\Deeba\\Anaconda3\\lib\\site-packages\\ipykernel_launcher.py:17: RuntimeWarning: divide by zero encountered in log\n"
     ]
    },
    {
     "data": {
      "text/plain": [
       "-inf"
      ]
     },
     "execution_count": 7,
     "metadata": {},
     "output_type": "execute_result"
    }
   ],
   "source": [
    "def SimpsonsImproperIntegrate(f, a, b, N, plotMethod=False):\n",
    "    a_inverse = 1/a\n",
    "    b_inverse = 1/b\n",
    "    dx = (a_inverse - b_inverse)/N\n",
    "    xi = 1/b \n",
    "    area = 0\n",
    "    i = 0\n",
    "    while i < N:\n",
    "        # The below line applies Simpson's rule\n",
    "        area += dx/6*(f(xi) + 4*f((2*xi+dx)/2) + f(xi+dx))\n",
    "        \n",
    "        xi += dx\n",
    "        i += 1\n",
    "    return area\n",
    "\n",
    "def f3(x):\n",
    "    return np.log(x)/x**3\n",
    "\n",
    "SimpsonsImproperIntegrate(f3, 1, np.Inf, 100)"
   ]
  },
  {
   "cell_type": "markdown",
   "metadata": {},
   "source": [
    "## Q2 b\n",
    "\n",
    "Numerically evaluate\n",
    "\n",
    "$$ \\int^\\infty_0 \\frac{1}{(x+1)^3}\\,dx$$\n",
    "\n",
    "using Simpson's rule.\n",
    "\n",
    "Hint: break the integral into two integrals, one with a finite domain and one with an infinite domain. In each domain use 100 strips to evalute the integral. Check your answer against the analytic result."
   ]
  },
  {
   "cell_type": "code",
   "execution_count": 8,
   "metadata": {},
   "outputs": [
    {
     "ename": "ZeroDivisionError",
     "evalue": "division by zero",
     "output_type": "error",
     "traceback": [
      "\u001b[1;31m---------------------------------------------------------------------------\u001b[0m",
      "\u001b[1;31mZeroDivisionError\u001b[0m                         Traceback (most recent call last)",
      "\u001b[1;32m<ipython-input-8-3bba52418861>\u001b[0m in \u001b[0;36m<module>\u001b[1;34m\u001b[0m\n\u001b[0;32m      2\u001b[0m     \u001b[1;32mreturn\u001b[0m \u001b[1;36m1\u001b[0m\u001b[1;33m/\u001b[0m\u001b[1;33m(\u001b[0m\u001b[0mx\u001b[0m\u001b[1;33m+\u001b[0m\u001b[1;36m1\u001b[0m\u001b[1;33m)\u001b[0m\u001b[1;33m**\u001b[0m\u001b[1;36m3\u001b[0m\u001b[1;33m\u001b[0m\u001b[1;33m\u001b[0m\u001b[0m\n\u001b[0;32m      3\u001b[0m \u001b[1;33m\u001b[0m\u001b[0m\n\u001b[1;32m----> 4\u001b[1;33m \u001b[0mSimpsonsImproperIntegrate\u001b[0m\u001b[1;33m(\u001b[0m\u001b[0mf4\u001b[0m\u001b[1;33m,\u001b[0m \u001b[1;36m0\u001b[0m\u001b[1;33m,\u001b[0m \u001b[0mnp\u001b[0m\u001b[1;33m.\u001b[0m\u001b[0mInf\u001b[0m\u001b[1;33m,\u001b[0m \u001b[1;36m100\u001b[0m\u001b[1;33m)\u001b[0m\u001b[1;33m\u001b[0m\u001b[1;33m\u001b[0m\u001b[0m\n\u001b[0m",
      "\u001b[1;32m<ipython-input-7-17be270a80fb>\u001b[0m in \u001b[0;36mSimpsonsImproperIntegrate\u001b[1;34m(f, a, b, N, plotMethod)\u001b[0m\n\u001b[0;32m      1\u001b[0m \u001b[1;32mdef\u001b[0m \u001b[0mSimpsonsImproperIntegrate\u001b[0m\u001b[1;33m(\u001b[0m\u001b[0mf\u001b[0m\u001b[1;33m,\u001b[0m \u001b[0ma\u001b[0m\u001b[1;33m,\u001b[0m \u001b[0mb\u001b[0m\u001b[1;33m,\u001b[0m \u001b[0mN\u001b[0m\u001b[1;33m,\u001b[0m \u001b[0mplotMethod\u001b[0m\u001b[1;33m=\u001b[0m\u001b[1;32mFalse\u001b[0m\u001b[1;33m)\u001b[0m\u001b[1;33m:\u001b[0m\u001b[1;33m\u001b[0m\u001b[1;33m\u001b[0m\u001b[0m\n\u001b[1;32m----> 2\u001b[1;33m     \u001b[0ma_inverse\u001b[0m \u001b[1;33m=\u001b[0m \u001b[1;36m1\u001b[0m\u001b[1;33m/\u001b[0m\u001b[0ma\u001b[0m\u001b[1;33m\u001b[0m\u001b[1;33m\u001b[0m\u001b[0m\n\u001b[0m\u001b[0;32m      3\u001b[0m     \u001b[0mb_inverse\u001b[0m \u001b[1;33m=\u001b[0m \u001b[1;36m1\u001b[0m\u001b[1;33m/\u001b[0m\u001b[0mb\u001b[0m\u001b[1;33m\u001b[0m\u001b[1;33m\u001b[0m\u001b[0m\n\u001b[0;32m      4\u001b[0m     \u001b[0mdx\u001b[0m \u001b[1;33m=\u001b[0m \u001b[1;33m(\u001b[0m\u001b[0ma_inverse\u001b[0m \u001b[1;33m-\u001b[0m \u001b[0mb_inverse\u001b[0m\u001b[1;33m)\u001b[0m\u001b[1;33m/\u001b[0m\u001b[0mN\u001b[0m\u001b[1;33m\u001b[0m\u001b[1;33m\u001b[0m\u001b[0m\n\u001b[0;32m      5\u001b[0m     \u001b[0mxi\u001b[0m \u001b[1;33m=\u001b[0m \u001b[1;36m1\u001b[0m\u001b[1;33m/\u001b[0m\u001b[0mb\u001b[0m\u001b[1;33m\u001b[0m\u001b[1;33m\u001b[0m\u001b[0m\n",
      "\u001b[1;31mZeroDivisionError\u001b[0m: division by zero"
     ]
    }
   ],
   "source": [
    "def f4(x):\n",
    "    return 1/(x+1)**3\n",
    "\n",
    "SimpsonsImproperIntegrate(f4, 0, np.Inf, 100)"
   ]
  },
  {
   "cell_type": "markdown",
   "metadata": {},
   "source": [
    "Now commit your notebook to your git repository and push the changes to GitHub.\n",
    "\n",
    "# Question 3 - Boole's rule\n",
    "\n",
    "Fitting the integrand to a quintic polynomial results in Boole's rule for integration. In the lecture the formula for Boole's rule was given as\n",
    "\n",
    "$$ \\int^b_a f(x)\\,dx \\simeq \\frac{2 \\Delta x}{45}\\left(7f_0 + 32 f_1 + 12 f_2 +32f_3 + 7 f_4\\right) $$\n",
    "\n",
    "where $\\Delta x = (b-a)/4$, and $f_i = f(a + i\\Delta x)$."
   ]
  },
  {
   "cell_type": "markdown",
   "metadata": {},
   "source": [
    "## Q3 a\n",
    "\n",
    "Write a function that numerically integrates another function using Boole's rule. Use the following function definition:"
   ]
  },
  {
   "cell_type": "code",
   "execution_count": 78,
   "metadata": {},
   "outputs": [],
   "source": [
    "def BooleIntegrate(f, a, b, N, plotMethod=False):\n",
    "    dx = (b-a)/N\n",
    "    xi = a\n",
    "    area = 0\n",
    "    i = 0\n",
    "    while i < N:\n",
    "        # The below line applies Boole's Rule\n",
    "        area += 2*dx/45*(7*f(xi) + 32*f((4*xi+dx)/4) + 12*f((2*xi+dx)/2) + 32*f((4*xi+3*dx)/4) + 7*f(xi+dx))\n",
    "        \n",
    "        print(area)\n",
    "        xi += dx\n",
    "        i += 1\n",
    "    return area"
   ]
  },
  {
   "cell_type": "markdown",
   "metadata": {},
   "source": [
    "Test your function by evaluating the following using 100 strips.\n",
    "\n",
    "$$ \\int_0^\\pi \\sin(x)\\,dx $$"
   ]
  },
  {
   "cell_type": "code",
   "execution_count": 79,
   "metadata": {},
   "outputs": [
    {
     "name": "stdout",
     "output_type": "stream",
     "text": [
      "0.0019737585370737712\n",
      "0.007893086286913749\n",
      "0.01775214158767994\n",
      "0.03154119474208866\n",
      "0.04924663761944907\n",
      "0.07085099708524524\n",
      "0.09633295224501036\n",
      "0.12566735548547547\n",
      "0.15882525729222763\n",
      "0.1957739348193856\n",
      "0.23647692418309796\n",
      "0.2808940564469942\n",
      "0.3289814972640752\n",
      "0.38069179013592164\n",
      "0.4359739032465283\n",
      "0.49477327982454533\n",
      "0.5570318919842251\n",
      "0.6226882979919393\n",
      "0.6916777029017522\n",
      "0.7639320225002098\n",
      "0.8393799504972379\n",
      "0.9179470288968424\n",
      "0.9995557214781612\n",
      "1.0841254903143533\n",
      "1.1715728752538093\n",
      "1.2618115762852447\n",
      "1.3547525387053918\n",
      "1.4503040410052406\n",
      "1.5483717853880934\n",
      "1.6488589908301068\n",
      "1.7516664885914768\n",
      "1.8566928200840127\n",
      "1.9638343369985138\n",
      "2.072985303593138\n",
      "2.1840380010418117\n",
      "2.296882833739708\n",
      "2.411408437460876\n",
      "2.527501789261287\n",
      "2.645048319018833\n",
      "2.763932022500209\n",
      "2.8840355758430816\n",
      "3.0052404513405793\n",
      "3.127427034413828\n",
      "3.2504747416571\n",
      "3.374262139839075\n",
      "3.498667065742781\n",
      "3.623566746725941\n",
      "3.748837921882745\n",
      "3.874356963687485\n",
      "3.9999999999999982\n",
      "4.125643036312511\n",
      "4.251162078117252\n",
      "4.3764332532740555\n",
      "4.501332934257215\n",
      "4.625737860160922\n",
      "4.749525258342897\n",
      "4.872572965586168\n",
      "4.994759548659417\n",
      "5.115964424156915\n",
      "5.236067977499787\n",
      "5.354951680981163\n",
      "5.472498210738709\n",
      "5.588591562539119\n",
      "5.703117166260287\n",
      "5.815961998958183\n",
      "5.927014696406857\n",
      "6.036165663001481\n",
      "6.143307179915982\n",
      "6.248333511408518\n",
      "6.351141009169888\n",
      "6.451628214611901\n",
      "6.549695958994754\n",
      "6.645247461294602\n",
      "6.738188423714749\n",
      "6.828427124746184\n",
      "6.91587450968564\n",
      "7.000444278521832\n",
      "7.082052971103151\n",
      "7.160620049502755\n",
      "7.236067977499784\n",
      "7.3083222970982415\n",
      "7.377311702008055\n",
      "7.442968108015769\n",
      "7.5052267201754495\n",
      "7.564026096753467\n",
      "7.619308209864074\n",
      "7.671018502735921\n",
      "7.719105943553002\n",
      "7.763523075816899\n",
      "7.804226065180611\n",
      "7.84117474270777\n",
      "7.8743326445145225\n",
      "7.903667047754988\n",
      "7.9291490029147536\n",
      "7.95075336238055\n",
      "7.968458805257911\n",
      "7.98224785841232\n",
      "7.992106913713087\n",
      "7.998026241462927\n",
      "8.000000000000002\n"
     ]
    },
    {
     "data": {
      "text/plain": [
       "8.000000000000002"
      ]
     },
     "execution_count": 79,
     "metadata": {},
     "output_type": "execute_result"
    }
   ],
   "source": [
    "def f5(x):\n",
    "    return np.sin(x)\n",
    "\n",
    "BooleIntegrate(f5, 0, np.pi, 100)"
   ]
  },
  {
   "cell_type": "markdown",
   "metadata": {},
   "source": [
    "## Q3 b\n",
    "\n",
    "For Boole's rule show that the global error scales as $\\Delta x^6$. The below plot shows a $\\Delta x^6$ reference line."
   ]
  },
  {
   "cell_type": "code",
   "execution_count": 11,
   "metadata": {},
   "outputs": [
    {
     "name": "stdout",
     "output_type": "stream",
     "text": [
      "[  10.   20.   40.   80.  160.  320.  640. 1280. 2560. 5120.] [1.41177365e+00 1.42926818e-03 2.00000000e+00 2.00000000e+00\n",
      " 2.00000000e+00 2.00000000e+00 2.00000000e+00 2.00000000e+00\n",
      " 2.00000000e+00 2.00000000e+00]\n"
     ]
    },
    {
     "data": {
      "text/plain": [
       "<matplotlib.collections.PathCollection at 0x15476c4b908>"
      ]
     },
     "execution_count": 11,
     "metadata": {},
     "output_type": "execute_result"
    },
    {
     "data": {
      "image/png": "[encoded data removed]",
      "text/plain": [
       "<Figure size 1080x720 with 1 Axes>"
      ]
     },
     "metadata": {
      "needs_background": "light"
     },
     "output_type": "display_data"
    }
   ],
   "source": [
    "I = 1 - np.cos(np.pi)\n",
    "imax = 10\n",
    "errBooles = np.empty((imax, 2))\n",
    "\n",
    "i = 0\n",
    "N = 10\n",
    "while i < imax:\n",
    "    errBooles[i,0] = N\n",
    "    errBooles[i,1] = np.abs(BooleIntegrate(f5, 0, np.pi, N) - I)\n",
    "    \n",
    "    N *= 2\n",
    "    i += 1\n",
    "\n",
    "x = np.linspace(10,48,100)\n",
    "y = x**-6\n",
    "\n",
    "plt.yscale('log')\n",
    "plt.xscale('log')\n",
    "plt.grid(True)\n",
    "plt.plot(x,y);\n",
    "\n",
    "plt.xlabel('N')\n",
    "plt.ylabel('error')\n",
    "print(errBooles[:,0], errBooles[:,1])\n",
    "plt.scatter(errBooles[:,0], errBooles[:,1])"
   ]
  },
  {
   "cell_type": "markdown",
   "metadata": {},
   "source": [
    "Now commit your notebook to your git repository and push the changes to GitHub.\n",
    "\n",
    "# Question 4 - integrand with a singularity\n",
    "\n",
    "The techniques developed in the lecture require the integrand to be continuous and bounded. What happens if there is a singularity in the integrand? In general these can be difficult to deal with (though some more generic methods exist - see, e.g., [Tanh-sinh quadrature](https://en.wikipedia.org/wiki/Tanh-sinh_quadrature)).\n",
    "\n",
    "In this example we will look at an explicit example that can be dealt with by a change of variables. Consider the identity:\n",
    "\n",
    "$$ \\int_0^1 \\frac{f(x)}{x^\\alpha}\\, dx = \\frac{1}{\\alpha} \\int_0^1 f(t^{1/\\alpha}) t^{(1-2\\alpha)/\\alpha}\\,dt$$\n",
    "\n",
    "which is achived by changing variables using $t = x^\\alpha$. This identity holds when $0 < \\alpha < 1$ and $f(x)$ is continous on $[0,1]$."
   ]
  },
  {
   "cell_type": "markdown",
   "metadata": {},
   "source": [
    "Let\n",
    "$$I = \\int^1_0 \\frac{\\cos(10x)}{x^{1/2}}\\,dx $$\n",
    "\n",
    "Plot the integrand in the range $[0,1]$, use a grid and label your axes."
   ]
  },
  {
   "cell_type": "code",
   "execution_count": 12,
   "metadata": {},
   "outputs": [],
   "source": [
    "# I applied the identity and simplified it, expressing it here as f7 instead of I\n",
    "def f7(t):\n",
    "    return 1/2*(np.cos(10t)**2)\n",
    "\n"
   ]
  },
  {
   "cell_type": "markdown",
   "metadata": {},
   "source": [
    "Define and plot the transformed integrand. For the plot use a grid and label your axes."
   ]
  },
  {
   "cell_type": "code",
   "execution_count": null,
   "metadata": {},
   "outputs": [],
   "source": [
    "def f7(t):\n",
    "    return 2*(np.cos(t)**1/2)"
   ]
  },
  {
   "cell_type": "markdown",
   "metadata": {},
   "source": [
    "Numerically evaluate $I$ using Simpson's rule. Use 100 strips to do this."
   ]
  },
  {
   "cell_type": "code",
   "execution_count": 13,
   "metadata": {},
   "outputs": [
    {
     "data": {
      "text/plain": [
       "0.2103677462027046"
      ]
     },
     "execution_count": 13,
     "metadata": {},
     "output_type": "execute_result"
    }
   ],
   "source": [
    "SimpsonsIntegrate(f7, 0, 1, 100)"
   ]
  },
  {
   "cell_type": "markdown",
   "metadata": {},
   "source": [
    "Now commit your notebook to your git repository and push the changes to GitHub.\n",
    "\n",
    "# Question 5\n",
    "\n",
    "Write your own function to integrate the following data using Simpson's rule."
   ]
  },
  {
   "cell_type": "code",
   "execution_count": 37,
   "metadata": {},
   "outputs": [
    {
     "name": "stdout",
     "output_type": "stream",
     "text": [
      "[0.         0.03141593 0.06283185 0.09424778 0.12566371 0.15707963\n",
      " 0.18849556 0.21991149 0.25132741 0.28274334 0.31415927 0.34557519\n",
      " 0.37699112 0.40840704 0.43982297 0.4712389  0.50265482 0.53407075\n",
      " 0.56548668 0.5969026  0.62831853 0.65973446 0.69115038 0.72256631\n",
      " 0.75398224 0.78539816 0.81681409 0.84823002 0.87964594 0.91106187\n",
      " 0.9424778  0.97389372 1.00530965 1.03672558 1.0681415  1.09955743\n",
      " 1.13097336 1.16238928 1.19380521 1.22522113 1.25663706 1.28805299\n",
      " 1.31946891 1.35088484 1.38230077 1.41371669 1.44513262 1.47654855\n",
      " 1.50796447 1.5393804  1.57079633 1.60221225 1.63362818 1.66504411\n",
      " 1.69646003 1.72787596 1.75929189 1.79070781 1.82212374 1.85353967\n",
      " 1.88495559 1.91637152 1.94778745 1.97920337 2.0106193  2.04203522\n",
      " 2.07345115 2.10486708 2.136283   2.16769893 2.19911486 2.23053078\n",
      " 2.26194671 2.29336264 2.32477856 2.35619449 2.38761042 2.41902634\n",
      " 2.45044227 2.4818582  2.51327412 2.54469005 2.57610598 2.6075219\n",
      " 2.63893783 2.67035376 2.70176968 2.73318561 2.76460154 2.79601746\n",
      " 2.82743339 2.85884931 2.89026524 2.92168117 2.95309709 2.98451302\n",
      " 3.01592895 3.04734487 3.0787608  3.11017673 3.14159265]\n"
     ]
    },
    {
     "data": {
      "text/plain": [
       "2.66666666666667"
      ]
     },
     "execution_count": 37,
     "metadata": {},
     "output_type": "execute_result"
    }
   ],
   "source": [
    "x = np.linspace(0, np.pi, 101)\n",
    "dx = x[1]-x[0]\n",
    "y = np.sin(x)\n",
    "\n",
    "print(x)\n",
    "\n",
    "def f8(x):\n",
    "    return x**2\n",
    "\n",
    "SimpsonsIntegrate(f8, 0, 2, 100)"
   ]
  },
  {
   "cell_type": "code",
   "execution_count": null,
   "metadata": {},
   "outputs": [],
   "source": []
  },
  {
   "cell_type": "markdown",
   "metadata": {},
   "source": [
    "Integrate the data using your function"
   ]
  },
  {
   "cell_type": "code",
   "execution_count": null,
   "metadata": {
    "scrolled": true
   },
   "outputs": [],
   "source": []
  },
  {
   "cell_type": "markdown",
   "metadata": {},
   "source": [
    "Recall that Simpson's method needs and odd number of data points to work (giving an even number of strips). If you use an even number you will get a bad result. If you check the convergence rate in this case you will see it is not what is expected. Checking the convergence rate is an important test of an integration code."
   ]
  },
  {
   "cell_type": "markdown",
   "metadata": {},
   "source": [
    "Now commit your notebook to your git repository and push the changes to GitHub.\n",
    "\n",
    "# Question 6\n",
    "\n",
    "Evaluate the following integral using both Simpsons rule and an RK4 ODE method\n",
    "\n",
    "$$ \\int_0^5 \\sinh(x) (x-5)\\, dx $$\n",
    "\n",
    "Compare the results of the two methods and take sufficient strips/small enough step sizes to ensure the results agree to a relative accuracy of 1e-6."
   ]
  },
  {
   "cell_type": "code",
   "execution_count": 36,
   "metadata": {},
   "outputs": [
    {
     "name": "stdout",
     "output_type": "stream",
     "text": [
      "-69.2032100839051\n",
      "499.4046197588269\n",
      "-568.607829842732\n"
     ]
    }
   ],
   "source": [
    "def f9(x):\n",
    "    return np.sinh(x)*(x-5)\n",
    "\n",
    "def f10(x,y):\n",
    "    return np.sinh(x)*(x-5) \n",
    "\n",
    "def SimpsonsIntegrate(f, a, b, N, plotMethod=False):\n",
    "    dx = (b-a)/N\n",
    "    xi = a\n",
    "    area = 0\n",
    "    i = 0\n",
    "    while i < N:\n",
    "        # The below line applies Simpson's rule\n",
    "        area += dx/6*(f(xi) + 4*f((2*xi+dx)/2) + f(xi+dx))\n",
    "        \n",
    "        xi += dx\n",
    "        i += 1\n",
    "    return area\n",
    "\n",
    "def RK4Step(f, dx, xi, yi):\n",
    "        k1 = dx*f(xi,yi)\n",
    "        k2 = dx*f(xi + 0.5*dx, yi + 0.5*k1)\n",
    "        k3 = dx*f(xi + 0.5*dx, yi + 0.5*k2)\n",
    "        k4 = dx*f(xi + dx, yi + k3)\n",
    "        \n",
    "        return yi + 1/6*(k1 + 2*k2 + 2*k3 + k4)\n",
    "    \n",
    "S1 = SimpsonsIntegrate(f9, 0, 5, 100)    \n",
    "#S2 = RK4Step(f10, 0.5, 0, 500)\n",
    "\n",
    "print(S1)\n",
    "print(S2) \n",
    "print(S1 - S2)\n"
   ]
  },
  {
   "cell_type": "markdown",
   "metadata": {},
   "source": [
    "## Submitting your assignment to BrightSpace\n",
    "\n",
    "To submit your assignment compress your entire ACM20030-Assignments folder (this will contain this assignment and assignment 1) and uploaded the zip file to BrightSpace. DO NOT download the zip file from the GitHub browser interface."
   ]
  },
  {
   "cell_type": "code",
   "execution_count": null,
   "metadata": {},
   "outputs": [],
   "source": []
  },
  {
   "cell_type": "code",
   "execution_count": null,
   "metadata": {},
   "outputs": [],
   "source": []
  }
 ],
 "metadata": {
  "kernelspec": {
   "display_name": "Python 3",
   "language": "python",
   "name": "python3"
  },
  "language_info": {
   "codemirror_mode": {
    "name": "ipython",
    "version": 3
   },
   "file_extension": ".py",
   "mimetype": "text/x-python",
   "name": "python",
   "nbconvert_exporter": "python",
   "pygments_lexer": "ipython3",
   "version": "3.7.4"
  }
 },
 "nbformat": 4,
 "nbformat_minor": 2
}
