{
 "cells": [
  {
   "cell_type": "markdown",
   "metadata": {},
   "source": [
    "# Assignment 4\n",
    "\n",
    "This assignment covers material on numerical integration.\n",
    "\n",
    "The breakdown of the marks is as follows:\n",
    "\n",
    "Question 0 - [1 mark]  \n",
    "Question 1 - [4 marks]  \n",
    "Questino 2 - [5 marks]  \n",
    "Question 3 - [5 marks]  \n",
    "Question 4 - [5 marks]  \n",
    "Question 5 - [5 marks]  \n",
    "Question 6 - [5 marks]  "
   ]
  },
  {
   "cell_type": "markdown",
   "metadata": {},
   "source": [
    "# Question 0\n",
    "\n",
    "You should have saved this notebook to your ACM20030-Assignments folder. Now:\n",
    "- commit the notebook to your local repository\n",
    "- push the changes to the GitHub"
   ]
  },
  {
   "cell_type": "code",
   "execution_count": 80,
   "metadata": {},
   "outputs": [],
   "source": [
    "import numpy as np\n",
    "import matplotlib.pyplot as plt\n",
    "from scipy import integrate"
   ]
  },
  {
   "cell_type": "code",
   "execution_count": 81,
   "metadata": {},
   "outputs": [],
   "source": [
    "# The below commands make the font and image size bigger\n",
    "plt.rcParams.update({'font.size': 22})\n",
    "plt.rcParams[\"figure.figsize\"] = (15,10)"
   ]
  },
  {
   "cell_type": "markdown",
   "metadata": {},
   "source": [
    "# Question 1"
   ]
  },
  {
   "cell_type": "markdown",
   "metadata": {},
   "source": [
    "In this question you will be asked to evaluate definite integrals in the form:\n",
    "\n",
    "$$ \\int_a^b f(x)\\, dx$$ \n",
    "\n",
    "using Simpson's rule. You can copy code from the [examples repository](https://github.com/nielsw2/ACM20030-Examples) if you wish but if you do, remove all the plotting functionality. Do not use SciPy or any other library to evaluate the integrals, unless explicitly asked to do so.\n",
    "\n",
    "First write a function that integrates another function using Simpson's rule. This function will get used in multiple questions in this assignment."
   ]
  },
  {
   "cell_type": "code",
   "execution_count": 82,
   "metadata": {},
   "outputs": [],
   "source": [
    "def SimpsonsIntegrate(f, a, b, N, plotMethod=False):\n",
    "    dx = (b-a)/N\n",
    "    xi = a\n",
    "    area = 0\n",
    "    i = 0\n",
    "    while i < N:\n",
    "        # The below line applies Simpson's rule\n",
    "        area += dx/6*(f(xi) + 4*f((2*xi+dx)/2) + f(xi+dx))\n",
    "        \n",
    "        xi += dx\n",
    "        i += 1\n",
    "    return area"
   ]
  },
  {
   "cell_type": "markdown",
   "metadata": {},
   "source": [
    "## Q1 a\n",
    "\n",
    "Evaluate $$ \\frac{1}{\\sqrt{\\pi}}\\int^{15}_{-15} x^2 e^{-x^2}\\, dx$$\n",
    "\n",
    "Use enough strips so that the result is accurate to a relative error of of at least 1e-6. Hint: to within machine precision the above integral evaluates to  1/2 ."
   ]
  },
  {
   "cell_type": "code",
   "execution_count": 83,
   "metadata": {},
   "outputs": [
    {
     "name": "stdout",
     "output_type": "stream",
     "text": [
      "1.1102230246251565e-16\n"
     ]
    }
   ],
   "source": [
    "def f1(x):\n",
    "    return (1/np.sqrt(np.pi))*((x**2)*np.exp(-x**2))\n",
    "\n",
    "result_1 = SimpsonsIntegrate(f1, -15, 15, 100)\n",
    "exact_1 = 1/2 \n",
    "\n",
    "print (1 - result_1/exact_1)"
   ]
  },
  {
   "cell_type": "markdown",
   "metadata": {},
   "source": [
    "## Q1 b\n",
    "\n",
    "Evaluate\n",
    "\n",
    "$$\\int^{50}_{-50} \\frac{1}{\\cosh x}\\,dx $$\n",
    "\n",
    "Use enough strips so that the result is accurate to a relative error of  of at least `1e-6`. Hint: to within machine precision the above integral evaluates to $\\pi$."
   ]
  },
  {
   "cell_type": "code",
   "execution_count": 84,
   "metadata": {
    "scrolled": true
   },
   "outputs": [
    {
     "name": "stdout",
     "output_type": "stream",
     "text": [
      "3.567050765873603e-09\n"
     ]
    }
   ],
   "source": [
    "def f2(x):\n",
    "    return 1/np.cosh(x)\n",
    "\n",
    "result_2 = SimpsonsIntegrate(f2, -50, 50, 200)\n",
    "exact_2 = np.pi\n",
    "\n",
    "print(1 - result_2/exact_2)\n"
   ]
  },
  {
   "cell_type": "markdown",
   "metadata": {},
   "source": [
    "## Q1 c\n",
    "\n",
    "Use SciPy's `integrate.quad()` function to evaluate the integrals in Q1a and Q1b"
   ]
  },
  {
   "cell_type": "code",
   "execution_count": 85,
   "metadata": {},
   "outputs": [
    {
     "name": "stdout",
     "output_type": "stream",
     "text": [
      "(0.49999999999999994, 2.944943141948542e-12)\n",
      "(3.141592653589793, 5.5381858831212136e-11)\n"
     ]
    }
   ],
   "source": [
    "result_1_quad = integrate.quad(f1, -15, 15)\n",
    "result_2_quad = integrate.quad(f2, -50, 50)\n",
    "\n",
    "print(result_1_quad)\n",
    "print(result_2_quad)"
   ]
  },
  {
   "cell_type": "markdown",
   "metadata": {},
   "source": [
    "Now commit your notebook to your git repository and push the changes to GitHub.\n",
    "\n",
    "# Question 2 - improper integrals\n",
    "\n",
    "In the lectures we looked at numerically evaluating indefinite integrals of the form\n",
    "\n",
    "$$ \\int^b_a f(x)\\, dx$$ where $a,b$ are finite. What about improper integrals where either $a$, $b$ or both are infinite? The methods we know so far cannot immediately be applied to these cases.\n",
    "\n",
    "One method is to transform the integral using the result\n",
    "\n",
    "$$ \\int_a^b f(x)\\, dx = \\int^{1/a}_{1/b} t^{-2} f(t^{-1})\\, dt$$\n",
    "\n",
    "which holds so long as $a,b>0$."
   ]
  },
  {
   "cell_type": "markdown",
   "metadata": {},
   "source": [
    "## Q2 a\n",
    "\n",
    "Using the above result numerically evaluate the following integral\n",
    "\n",
    "$$ \\int^\\infty_1 \\frac{\\log(x)}{x^3}\\,dx $$\n",
    "\n",
    "using Simpson's rule. Use 100 strips to evaluate the integral.\n",
    "\n",
    "Hint: you will have to use an `if` statement inside your transformed function for to deal with $t=0$. For this case it is useful to note that $\\lim_{t\\rightarrow0} t \\log(1/t) = 0$."
   ]
  },
  {
   "cell_type": "code",
   "execution_count": 119,
   "metadata": {},
   "outputs": [
    {
     "data": {
      "text/plain": [
       "0.24999807459463722"
      ]
     },
     "execution_count": 119,
     "metadata": {},
     "output_type": "execute_result"
    }
   ],
   "source": [
    "def f3(x):\n",
    "    return np.log(x)/x**3\n",
    "\n",
    "def f4(t):\n",
    "    if t == 0:\n",
    "        return 0\n",
    "    else: \n",
    "        return (t**-2)*f3(t**-1)\n",
    "\n",
    "SimpsonsIntegrate(f4, 1/np.inf, 1, 100)"
   ]
  },
  {
   "cell_type": "markdown",
   "metadata": {},
   "source": [
    "## Q2 b\n",
    "\n",
    "Numerically evaluate\n",
    "\n",
    "$$ \\int^\\infty_0 \\frac{1}{(x+1)^3}\\,dx$$\n",
    "\n",
    "using Simpson's rule.\n",
    "\n",
    "Hint: break the integral into two integrals, one with a finite domain and one with an infinite domain. In each domain use 100 strips to evalute the integral. Check your answer against the analytic result."
   ]
  },
  {
   "cell_type": "code",
   "execution_count": null,
   "metadata": {},
   "outputs": [],
   "source": []
  },
  {
   "cell_type": "markdown",
   "metadata": {},
   "source": [
    "Now commit your notebook to your git repository and push the changes to GitHub.\n",
    "\n",
    "# Question 3 - Boole's rule\n",
    "\n",
    "Fitting the integrand to a quintic polynomial results in Boole's rule for integration. In the lecture the formula for Boole's rule was given as\n",
    "\n",
    "$$ \\int^b_a f(x)\\,dx \\simeq \\frac{2 \\Delta x}{45}\\left(7f_0 + 32 f_1 + 12 f_2 +32f_3 + 7 f_4\\right) $$\n",
    "\n",
    "where $\\Delta x = (b-a)/4$, and $f_i = f(a + i\\Delta x)$."
   ]
  },
  {
   "cell_type": "markdown",
   "metadata": {},
   "source": [
    "## Q3 a\n",
    "\n",
    "Write a function that numerically integrates another function using Boole's rule. Use the following function definition:"
   ]
  },
  {
   "cell_type": "code",
   "execution_count": 108,
   "metadata": {},
   "outputs": [],
   "source": [
    "def BooleIntegrate(f, a, b, N, plotMethod=False):\n",
    "    dx = (b-a)/N\n",
    "    xi = a\n",
    "    area = 0\n",
    "    i = 0\n",
    "    while i < N:\n",
    "        # The below line applies Boole's Rule\n",
    "        #area += 2*dx/45*(7*f(xi) + 32*f((4*xi+dx)/4) + 12*f((2*xi+dx)/2) + 32*f((4*xi+3*dx)/4) + 7*f(xi+dx))\n",
    "        term1 = 7*f(xi)\n",
    "        term2 = 32*f((4*xi+dx)/4)\n",
    "        term3 = 12*f((2*xi+dx)/2)\n",
    "        term4 = 32*f((4*xi+3*dx)/4)\n",
    "        term5 = 7*f(xi+dx)\n",
    "        area += (2*dx/45)*(term1 + term2 + term3 + term4 + term5)\n",
    "        \n",
    "        xi += dx\n",
    "        i += 1\n",
    "    return 1/4*(area)"
   ]
  },
  {
   "cell_type": "markdown",
   "metadata": {},
   "source": [
    "Test your function by evaluating the following using 100 strips.\n",
    "\n",
    "$$ \\int_0^\\pi \\sin(x)\\,dx $$"
   ]
  },
  {
   "cell_type": "code",
   "execution_count": 109,
   "metadata": {},
   "outputs": [
    {
     "data": {
      "text/plain": [
       "2.0000000000000004"
      ]
     },
     "execution_count": 109,
     "metadata": {},
     "output_type": "execute_result"
    }
   ],
   "source": [
    "def f5(x):\n",
    "    return np.sin(x)\n",
    "\n",
    "BooleIntegrate(f5, 0, np.pi, 100)"
   ]
  },
  {
   "cell_type": "markdown",
   "metadata": {},
   "source": [
    "## Q3 b\n",
    "\n",
    "For Boole's rule show that the global error scales as $\\Delta x^6$. The below plot shows a $\\Delta x^6$ reference line."
   ]
  },
  {
   "cell_type": "code",
   "execution_count": 110,
   "metadata": {},
   "outputs": [
    {
     "data": {
      "text/plain": [
       "<matplotlib.collections.PathCollection at 0x15476ccd788>"
      ]
     },
     "execution_count": 110,
     "metadata": {},
     "output_type": "execute_result"
    },
    {
     "data": {
      "image/png": "[encoded data removed]",
      "text/plain": [
       "<Figure size 1080x720 with 1 Axes>"
      ]
     },
     "metadata": {
      "needs_background": "light"
     },
     "output_type": "display_data"
    }
   ],
   "source": [
    "I = 1 - np.cos(np.pi)\n",
    "imax = 10\n",
    "errBooles = np.empty((imax, 2))\n",
    "\n",
    "i = 0\n",
    "N = 10\n",
    "while i < imax:\n",
    "    errBooles[i,0] = N\n",
    "    errBooles[i,1] = np.abs(BooleIntegrate(f5, 0, np.pi, N) - I)\n",
    "    \n",
    "    N *= 2\n",
    "    i += 1\n",
    "\n",
    "x = np.linspace(10,48,100)\n",
    "y = x**-6\n",
    "\n",
    "plt.yscale('log')\n",
    "plt.xscale('log')\n",
    "plt.grid(True)\n",
    "plt.plot(x,y);\n",
    "\n",
    "plt.xlabel('N')\n",
    "plt.ylabel('error')\n",
    "plt.scatter(errBooles[:,0], errBooles[:,1])"
   ]
  },
  {
   "cell_type": "markdown",
   "metadata": {},
   "source": [
    "Now commit your notebook to your git repository and push the changes to GitHub.\n",
    "\n",
    "# Question 4 - integrand with a singularity\n",
    "\n",
    "The techniques developed in the lecture require the integrand to be continuous and bounded. What happens if there is a singularity in the integrand? In general these can be difficult to deal with (though some more generic methods exist - see, e.g., [Tanh-sinh quadrature](https://en.wikipedia.org/wiki/Tanh-sinh_quadrature)).\n",
    "\n",
    "In this example we will look at an explicit example that can be dealt with by a change of variables. Consider the identity:\n",
    "\n",
    "$$ \\int_0^1 \\frac{f(x)}{x^\\alpha}\\, dx = \\frac{1}{\\alpha} \\int_0^1 f(t^{1/\\alpha}) t^{(1-2\\alpha)/\\alpha}\\,dt$$\n",
    "\n",
    "which is achived by changing variables using $t = x^\\alpha$. This identity holds when $0 < \\alpha < 1$ and $f(x)$ is continous on $[0,1]$."
   ]
  },
  {
   "cell_type": "markdown",
   "metadata": {},
   "source": [
    "Let\n",
    "$$I = \\int^1_0 \\frac{\\cos(10x)}{x^{1/2}}\\,dx $$\n",
    "\n",
    "Plot the integrand in the range $[0,1]$, use a grid and label your axes."
   ]
  },
  {
   "cell_type": "code",
   "execution_count": 130,
   "metadata": {},
   "outputs": [
    {
     "name": "stderr",
     "output_type": "stream",
     "text": [
      "C:\\Users\\Deeba\\Anaconda3\\lib\\site-packages\\ipykernel_launcher.py:2: RuntimeWarning: divide by zero encountered in true_divide\n",
      "  \n"
     ]
    },
    {
     "data": {
      "text/plain": [
       "Text(0, 0.5, 'y')"
      ]
     },
     "execution_count": 130,
     "metadata": {},
     "output_type": "execute_result"
    },
    {
     "data": {
      "image/png": "[encoded data removed]",
      "text/plain": [
       "<Figure size 1080x720 with 1 Axes>"
      ]
     },
     "metadata": {
      "needs_background": "light"
     },
     "output_type": "display_data"
    }
   ],
   "source": [
    "def f7(x):\n",
    "    return np.cos(10*x)/x**(1/2)\n",
    "\n",
    "x = np.linspace(0,1,100)\n",
    "y = f7(x)\n",
    "\n",
    "plt.grid(True)\n",
    "plt.plot(x,y);\n",
    "plt.xlabel('x')\n",
    "plt.ylabel('y')"
   ]
  },
  {
   "cell_type": "markdown",
   "metadata": {},
   "source": [
    "Define and plot the transformed integrand. For the plot use a grid and label your axes."
   ]
  },
  {
   "cell_type": "code",
   "execution_count": 112,
   "metadata": {},
   "outputs": [],
   "source": [
    "def f7(x):\n",
    "    return np.cos(10x)/x**(1/2)\n"
   ]
  },
  {
   "cell_type": "markdown",
   "metadata": {},
   "source": [
    "Numerically evaluate $I$ using Simpson's rule. Use 100 strips to do this."
   ]
  },
  {
   "cell_type": "code",
   "execution_count": 113,
   "metadata": {},
   "outputs": [
    {
     "data": {
      "text/plain": [
       "0.8414709848108184"
      ]
     },
     "execution_count": 113,
     "metadata": {},
     "output_type": "execute_result"
    }
   ],
   "source": [
    "SimpsonsIntegrate(f7, 0, 1, 100)"
   ]
  },
  {
   "cell_type": "markdown",
   "metadata": {},
   "source": [
    "Now commit your notebook to your git repository and push the changes to GitHub.\n",
    "\n",
    "# Question 5\n",
    "\n",
    "Write your own function to integrate the following data using Simpson's rule."
   ]
  },
  {
   "cell_type": "code",
   "execution_count": 114,
   "metadata": {},
   "outputs": [
    {
     "name": "stdout",
     "output_type": "stream",
     "text": [
      "[0.         0.03141593 0.06283185 0.09424778 0.12566371 0.15707963\n",
      " 0.18849556 0.21991149 0.25132741 0.28274334 0.31415927 0.34557519\n",
      " 0.37699112 0.40840704 0.43982297 0.4712389  0.50265482 0.53407075\n",
      " 0.56548668 0.5969026  0.62831853 0.65973446 0.69115038 0.72256631\n",
      " 0.75398224 0.78539816 0.81681409 0.84823002 0.87964594 0.91106187\n",
      " 0.9424778  0.97389372 1.00530965 1.03672558 1.0681415  1.09955743\n",
      " 1.13097336 1.16238928 1.19380521 1.22522113 1.25663706 1.28805299\n",
      " 1.31946891 1.35088484 1.38230077 1.41371669 1.44513262 1.47654855\n",
      " 1.50796447 1.5393804  1.57079633 1.60221225 1.63362818 1.66504411\n",
      " 1.69646003 1.72787596 1.75929189 1.79070781 1.82212374 1.85353967\n",
      " 1.88495559 1.91637152 1.94778745 1.97920337 2.0106193  2.04203522\n",
      " 2.07345115 2.10486708 2.136283   2.16769893 2.19911486 2.23053078\n",
      " 2.26194671 2.29336264 2.32477856 2.35619449 2.38761042 2.41902634\n",
      " 2.45044227 2.4818582  2.51327412 2.54469005 2.57610598 2.6075219\n",
      " 2.63893783 2.67035376 2.70176968 2.73318561 2.76460154 2.79601746\n",
      " 2.82743339 2.85884931 2.89026524 2.92168117 2.95309709 2.98451302\n",
      " 3.01592895 3.04734487 3.0787608  3.11017673 3.14159265]\n"
     ]
    },
    {
     "data": {
      "text/plain": [
       "2.66666666666667"
      ]
     },
     "execution_count": 114,
     "metadata": {},
     "output_type": "execute_result"
    }
   ],
   "source": [
    "x = np.linspace(0, np.pi, 101)\n",
    "dx = x[1]-x[0]\n",
    "y = np.sin(x)"
   ]
  },
  {
   "cell_type": "code",
   "execution_count": null,
   "metadata": {},
   "outputs": [],
   "source": []
  },
  {
   "cell_type": "markdown",
   "metadata": {},
   "source": [
    "Integrate the data using your function"
   ]
  },
  {
   "cell_type": "code",
   "execution_count": null,
   "metadata": {
    "scrolled": true
   },
   "outputs": [],
   "source": []
  },
  {
   "cell_type": "markdown",
   "metadata": {},
   "source": [
    "Recall that Simpson's method needs and odd number of data points to work (giving an even number of strips). If you use an even number you will get a bad result. If you check the convergence rate in this case you will see it is not what is expected. Checking the convergence rate is an important test of an integration code."
   ]
  },
  {
   "cell_type": "markdown",
   "metadata": {},
   "source": [
    "Now commit your notebook to your git repository and push the changes to GitHub.\n",
    "\n",
    "# Question 6\n",
    "\n",
    "Evaluate the following integral using both Simpsons rule and an RK4 ODE method\n",
    "\n",
    "$$ \\int_0^5 \\sinh(x) (x-5)\\, dx $$\n",
    "\n",
    "Compare the results of the two methods and take sufficient strips/small enough step sizes to ensure the results agree to a relative accuracy of 1e-6."
   ]
  },
  {
   "cell_type": "code",
   "execution_count": 132,
   "metadata": {},
   "outputs": [
    {
     "name": "stdout",
     "output_type": "stream",
     "text": [
      "-69.2032100839051\n",
      "499.4046197588269\n",
      "-568.607829842732\n"
     ]
    }
   ],
   "source": [
    "def f9(x):\n",
    "    return np.sinh(x)*(x-5)\n",
    "\n",
    "def f10(x,y):\n",
    "    return np.sinh(x)*(x-5) \n",
    "\n",
    "def SimpsonsIntegrate(f, a, b, N, plotMethod=False):\n",
    "    dx = (b-a)/N\n",
    "    xi = a\n",
    "    area = 0\n",
    "    i = 0\n",
    "    while i < N:\n",
    "        # The below line applies Simpson's rule\n",
    "        area += dx/6*(f(xi) + 4*f((2*xi+dx)/2) + f(xi+dx))\n",
    "        \n",
    "        xi += dx\n",
    "        i += 1\n",
    "    return area\n",
    "\n",
    "def RK4Step(f, dx, xi, yi):\n",
    "        k1 = dx*f(xi,yi)\n",
    "        k2 = dx*f(xi + 0.5*dx, yi + 0.5*k1)\n",
    "        k3 = dx*f(xi + 0.5*dx, yi + 0.5*k2)\n",
    "        k4 = dx*f(xi + dx, yi + k3)\n",
    "        \n",
    "        return yi + 1/6*(k1 + 2*k2 + 2*k3 + k4)\n",
    "    \n",
    "S1 = SimpsonsIntegrate(f9, 0, 5, 100)    \n",
    "S2 = RK4Step(f10, 0.5, 0, 500)\n",
    "\n",
    "print(S1)\n",
    "print(S2) \n",
    "print(S1 - S2)\n"
   ]
  },
  {
   "cell_type": "markdown",
   "metadata": {},
   "source": [
    "## Submitting your assignment to BrightSpace\n",
    "\n",
    "To submit your assignment compress your entire ACM20030-Assignments folder (this will contain this assignment and assignment 1) and uploaded the zip file to BrightSpace. DO NOT download the zip file from the GitHub browser interface."
   ]
  },
  {
   "cell_type": "code",
   "execution_count": null,
   "metadata": {},
   "outputs": [],
   "source": []
  },
  {
   "cell_type": "code",
   "execution_count": null,
   "metadata": {},
   "outputs": [],
   "source": []
  }
 ],
 "metadata": {
  "kernelspec": {
   "display_name": "Python 3",
   "language": "python",
   "name": "python3"
  },
  "language_info": {
   "codemirror_mode": {
    "name": "ipython",
    "version": 3
   },
   "file_extension": ".py",
   "mimetype": "text/x-python",
   "name": "python",
   "nbconvert_exporter": "python",
   "pygments_lexer": "ipython3",
   "version": "3.7.4"
  }
 },
 "nbformat": 4,
 "nbformat_minor": 2
}
