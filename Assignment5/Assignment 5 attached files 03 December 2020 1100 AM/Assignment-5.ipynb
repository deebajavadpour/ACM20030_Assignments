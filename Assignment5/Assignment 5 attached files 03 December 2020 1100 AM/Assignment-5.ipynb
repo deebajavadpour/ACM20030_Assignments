{
 "cells": [
  {
   "cell_type": "markdown",
   "metadata": {},
   "source": [
    "#  Assignment 5\n",
    "\n",
    "This assignment covers material on matrices, norms, condition numbers and eigensystems.\n",
    "\n",
    "The breakdown of the marks is as follows:\n",
    "\n",
    "Question 0 - [1 mark]  \n",
    "Question 1 - [7 marks]  \n",
    "Questino 2 - [6 marks]  \n",
    "Question 3 - [7 marks]  \n",
    "Question 4 - [9 marks]  "
   ]
  },
  {
   "cell_type": "markdown",
   "metadata": {},
   "source": [
    "# Question 0\n",
    "\n",
    "You should have saved this notebook to your ACM20030-Assignments folder. Now:\n",
    "- commit the notebook to your local repository\n",
    "- push the changes to the GitHub"
   ]
  },
  {
   "cell_type": "code",
   "execution_count": 17,
   "metadata": {},
   "outputs": [],
   "source": [
    "import numpy as np\n",
    "from numpy import linalg as la\n",
    "np.set_printoptions(linewidth=200)  # This stops line wrapping of larger matrices"
   ]
  },
  {
   "cell_type": "markdown",
   "metadata": {},
   "source": [
    "# Question 1 - practice manipulating arrays\n",
    "\n",
    "This questions asks you write a few functions for manipulating arrays of data"
   ]
  },
  {
   "cell_type": "markdown",
   "metadata": {},
   "source": [
    "## Q1 a\n",
    "\n",
    "Write a function that checks if a given $n\\times n$ matrix is symmetric. Use only loops and `.shape` function from numpy (do not use any other special numpy functions)."
   ]
  },
  {
   "cell_type": "code",
   "execution_count": 18,
   "metadata": {},
   "outputs": [],
   "source": [
    "A = np.array([[1,2], [3,4]])\n",
    "shape = A.shape\n",
    "R = shape[0]\n",
    "t_matrix = []\n",
    "\n",
    "def column(matrix, i):\n",
    "    return [row[i] for row in matrix]\n",
    "\n",
    "def flattened_elements(A):\n",
    "    print(A)\n",
    "    all_matrix_elements = []\n",
    "    for row in A:\n",
    "        for element in row:\n",
    "            all_matrix_elements.append(element)\n",
    "    return all_matrix_elements\n",
    "\n",
    "def transposefunction(A, R):\n",
    "    for i in range(0,R):\n",
    "        row_new = column(A, i)\n",
    "        t_matrix.append(row_new)\n",
    "    return t_matrix\n",
    "\n",
    "def check_symmetry(A, B):\n",
    "    A_shape = A.shape\n",
    "    if A_shape[0] != A_shape[1]:\n",
    "        return False\n",
    "\n",
    "def check_symmetric(A):\n",
    "    return all(flattened_elements(A == transposefunction(A, A.shape[0])))\n",
    "\n",
    "#final attempt: \n",
    "\n",
    "def is_symmetric(matrix):\n",
    "    for i in range(len(matrix)):\n",
    "        for j in range(len(matrix[i])):\n",
    "            if matrix[i][j] != matrix[j][i]:\n",
    "                return False\n",
    "    return True"
   ]
  },
  {
   "cell_type": "markdown",
   "metadata": {},
   "source": [
    "Test your function on the two matrices below"
   ]
  },
  {
   "cell_type": "code",
   "execution_count": 19,
   "metadata": {},
   "outputs": [],
   "source": [
    "A = np.random.rand(5,5)\n",
    "SymMatrix = (A + A.T)/2"
   ]
  },
  {
   "cell_type": "code",
   "execution_count": 20,
   "metadata": {},
   "outputs": [
    {
     "data": {
      "text/plain": [
       "True"
      ]
     },
     "execution_count": 20,
     "metadata": {},
     "output_type": "execute_result"
    }
   ],
   "source": [
    "is_symmetric(A)\n",
    "is_symmetric(SymMatrix)"
   ]
  },
  {
   "cell_type": "markdown",
   "metadata": {},
   "source": [
    "## Q1 b\n",
    "\n",
    "Write a function to transpose a general $n\\times n$ matrix. Do this by writing loops and not using any special functions like `np.transpose()`, `A.T`, or any functions from any other library (`np.zeroes`, `np.ones`, `np.shape`, etc are all ok to use)."
   ]
  },
  {
   "cell_type": "code",
   "execution_count": 21,
   "metadata": {},
   "outputs": [],
   "source": [
    "def transposefunction(A):\n",
    "    t_matrix = []\n",
    "    R = A.shape[0]\n",
    "    for i in range(0,R):\n",
    "        row_new = column(A, i)\n",
    "        t_matrix.append(row_new)\n",
    "    return np.array(t_matrix)"
   ]
  },
  {
   "cell_type": "markdown",
   "metadata": {},
   "source": [
    "Check your code by transposing a matrix by checking that $A^T \\neq A$ and $(A^T)^T - A = 0$"
   ]
  },
  {
   "cell_type": "code",
   "execution_count": 22,
   "metadata": {
    "scrolled": false
   },
   "outputs": [
    {
     "name": "stdout",
     "output_type": "stream",
     "text": [
      "[[0.89855561 0.15045162 0.69487261 0.0286363  0.93672123 0.1034766 ]\n",
      " [0.07469017 0.22303338 0.28459266 0.75058148 0.73375242 0.01978231]\n",
      " [0.61230582 0.45618193 0.8039047  0.46358233 0.81059873 0.32493954]\n",
      " [0.45800459 0.40029587 0.46258186 0.21707223 0.9872304  0.09047492]\n",
      " [0.73739069 0.42672077 0.34238985 0.89933414 0.78102541 0.38366366]\n",
      " [0.07424922 0.49326903 0.77317676 0.39728953 0.70254761 0.07480229]] [[0.89855561 0.07469017 0.61230582 0.45800459 0.73739069 0.07424922]\n",
      " [0.15045162 0.22303338 0.45618193 0.40029587 0.42672077 0.49326903]\n",
      " [0.69487261 0.28459266 0.8039047  0.46258186 0.34238985 0.77317676]\n",
      " [0.0286363  0.75058148 0.46358233 0.21707223 0.89933414 0.39728953]\n",
      " [0.93672123 0.73375242 0.81059873 0.9872304  0.78102541 0.70254761]\n",
      " [0.1034766  0.01978231 0.32493954 0.09047492 0.38366366 0.07480229]]\n"
     ]
    },
    {
     "data": {
      "text/plain": [
       "array([[ True,  True,  True,  True,  True,  True],\n",
       "       [ True,  True,  True,  True,  True,  True],\n",
       "       [ True,  True,  True,  True,  True,  True],\n",
       "       [ True,  True,  True,  True,  True,  True],\n",
       "       [ True,  True,  True,  True,  True,  True],\n",
       "       [ True,  True,  True,  True,  True,  True]])"
      ]
     },
     "execution_count": 22,
     "metadata": {},
     "output_type": "execute_result"
    }
   ],
   "source": [
    "A = np.random.rand(6,6);\n",
    "print(A, transposefunction(A))\n",
    "\n",
    "transposefunction(A) == A \n",
    "transposefunction(transposefunction(A)) - A == 0"
   ]
  },
  {
   "cell_type": "markdown",
   "metadata": {},
   "source": [
    "## Q1c\n",
    "\n",
    "Write a function that finds the maximum entry in a matrix (where the matrix does not need to be square). Do this by writing loops and not using any special functions like `np.max` or any functions from any other library."
   ]
  },
  {
   "cell_type": "code",
   "execution_count": 23,
   "metadata": {},
   "outputs": [],
   "source": [
    "def flattened_elements(A):\n",
    "    all_matrix_elements = []\n",
    "    for row in A:\n",
    "        for element in row:\n",
    "            all_matrix_elements.append(element)\n",
    "    return all_matrix_elements\n",
    "          \n",
    "def max_element_list(A):\n",
    "    len_list = len(A)\n",
    "    current_biggest = 0 \n",
    "    for i in range(0, len_list):\n",
    "        if A[i] > current_biggest:\n",
    "            current_biggest = A[i]\n",
    "    return current_biggest\n",
    "\n",
    "def max_entry(matrix):\n",
    "    list_flattened_elements = flattened_elements(matrix)\n",
    "    max_entry = max_element_list(list_flattened_elements)\n",
    "    return max_entry"
   ]
  },
  {
   "cell_type": "markdown",
   "metadata": {},
   "source": [
    "Check your result by comparing to `np.max(A)` for the below random matrix"
   ]
  },
  {
   "cell_type": "code",
   "execution_count": 24,
   "metadata": {},
   "outputs": [
    {
     "name": "stdout",
     "output_type": "stream",
     "text": [
      "[0.38831370844620794, 0.905718582968413, 0.5945418308040735, 0.22801306503332408, 0.7630564216577331, 0.4039037576478156, 0.06094358842905201, 0.21746098738654518, 0.8322325766129491, 0.43057028477217174, 0.5297685917862052, 0.9674183102412446, 0.748623585484207, 0.8637754275455006, 0.46262237329880573, 0.16058132164304129, 0.8509687118630379, 0.8355391191124193, 0.18501197807631986, 0.9432591900400769]\n",
      "[[0.38831371 0.90571858 0.59454183 0.22801307 0.76305642]\n",
      " [0.40390376 0.06094359 0.21746099 0.83223258 0.43057028]\n",
      " [0.52976859 0.96741831 0.74862359 0.86377543 0.46262237]\n",
      " [0.16058132 0.85096871 0.83553912 0.18501198 0.94325919]]\n",
      "0.9674183102412446\n",
      "0.9674183102412446\n",
      "function works\n"
     ]
    }
   ],
   "source": [
    "A = np.random.rand(4,5)\n",
    "\n",
    "result_1 = np.max(A)\n",
    "result_2 = max_entry(A)\n",
    "\n",
    "print(flattened_elements(A))\n",
    "\n",
    "print(A)\n",
    "print(result_1)\n",
    "print(result_2)\n",
    "\n",
    "if result_1 == result_2:\n",
    "    print(\"function works\")\n",
    "else:\n",
    "    print(\"function does not work\")"
   ]
  },
  {
   "cell_type": "markdown",
   "metadata": {},
   "source": [
    "Commit your notebook to git and push it to GitHub.\n",
    "\n",
    "# Question 2:  matrix norms\n",
    "\n",
    "In the lectures we focused on the $L^2$-norm. We also briefly mentioned the $L^1$ and $L^\\infty$ norm. Let's look at calculating those as well for a general $m\\times n$ matrix."
   ]
  },
  {
   "cell_type": "markdown",
   "metadata": {},
   "source": [
    "# Q2a\n",
    "\n",
    "The $L^1$ norm is given by\n",
    "\n",
    "$$ \\lVert A \\rVert_1 = \\max_j \\sum^m_{i=1} |a_{ij}| $$\n",
    "\n",
    "i.e., it is the max of the sums of the absolute values of each column. Write a function that computes the $L^1$-norm using only loops. The function should use no special numpy functions except `np.abs()` (`np.shape`, `np.inf`, etc are ok to use)."
   ]
  },
  {
   "cell_type": "code",
   "execution_count": 25,
   "metadata": {},
   "outputs": [],
   "source": [
    "def one_norm(A):\n",
    "    norm = []\n",
    "    A_shape = A.shape\n",
    "    R = A_shape[1]\n",
    "    for i in range(0, R):\n",
    "        column_a = column(A, i)\n",
    "        sum_column = sum(np.abs(column_a))\n",
    "        norm.append(sum_column)\n",
    "        norm_max = max(norm)\n",
    "    return norm_max   "
   ]
  },
  {
   "cell_type": "markdown",
   "metadata": {},
   "source": [
    "Check your result against NumPy's `la.norm(A,1)` function for the following random matrix"
   ]
  },
  {
   "cell_type": "code",
   "execution_count": 26,
   "metadata": {},
   "outputs": [
    {
     "name": "stdout",
     "output_type": "stream",
     "text": [
      "function works\n"
     ]
    }
   ],
   "source": [
    "A = np.random.rand(3,4)\n",
    "\n",
    "result_1 = one_norm(A)\n",
    "result_2 = la.norm(A, 1)\n",
    "\n",
    "if result_1 == result_2:\n",
    "    print(\"function works\")\n",
    "else:\n",
    "    print(\"function does not work\")"
   ]
  },
  {
   "cell_type": "markdown",
   "metadata": {},
   "source": [
    "## Q2b\n",
    "\n",
    "The $L^\\infty$ norm is given by \n",
    "\n",
    "$$\\lVert A \\rVert_\\infty = \\max_i \\sum_{j=1}^n |a_{ij}|$$\n",
    "\n",
    "i.e., it is the max of the sums of the absolute values of each row. Write a function that computes the $L^\\infty$-norm using only loops and no special numpy functions."
   ]
  },
  {
   "cell_type": "code",
   "execution_count": 27,
   "metadata": {},
   "outputs": [],
   "source": [
    "def infinity_norm(A):\n",
    "    norm = []\n",
    "    A_shape = A.shape\n",
    "    R = A_shape[0]\n",
    "    for i in range(0, R):\n",
    "        row_a = A[i]\n",
    "        sum_row = sum(np.abs(row_a))\n",
    "        norm.append(sum_row)\n",
    "        norm_max = max(norm)\n",
    "    return norm_max  "
   ]
  },
  {
   "cell_type": "markdown",
   "metadata": {},
   "source": [
    "Check your result against NumPy's `la.norm(A,np.inf)` function for the following random matrix"
   ]
  },
  {
   "cell_type": "code",
   "execution_count": 28,
   "metadata": {},
   "outputs": [
    {
     "name": "stdout",
     "output_type": "stream",
     "text": [
      "function works\n"
     ]
    }
   ],
   "source": [
    "A = np.random.rand(3,4)\n",
    "\n",
    "result_1 = infinity_norm(A)\n",
    "result_2 = la.norm(A, np.inf)\n",
    "\n",
    "if result_1 == result_2:\n",
    "    print(\"function works\")\n",
    "else:\n",
    "    print(\"function does not work\")"
   ]
  },
  {
   "cell_type": "markdown",
   "metadata": {},
   "source": [
    "Commit your notebook to git and push it to GitHub.\n",
    "\n",
    "# Question 3: ill-conditions systems of equations\n",
    "\n",
    "In this question you can use any of NumPy's functions.\n",
    "\n",
    "## Q3a\n",
    "\n",
    "Which of the following three matrices, $A1, A2, A3$, are ill-conditioned. State the reason for your conclusion."
   ]
  },
  {
   "cell_type": "code",
   "execution_count": 29,
   "metadata": {},
   "outputs": [],
   "source": [
    "A1 = np.array([[ 2.852416473483e-01,  3.803483118694e-01,  2.697704226632e-01,  6.810611849029e-01],\n",
    "       [ 6.622827828376e-01,  6.447943415836e-01,  4.387842058829e-01,  1.530575702376e+00],\n",
    "       [ 3.672130860703e-01,  8.309522079704e-01,  9.975487474007e-01,  5.678296337101e-01],\n",
    "       [ 4.036490000599e-01,  6.865978225967e-06,  8.788095913773e-01, -7.150472427928e-02]])\n",
    "\n",
    "A2 = np.array([[0.988746460106, 0.351486109477, 0.024911477532, 0.384039749683],\n",
    "       [0.282104657306, 0.239884151775, 0.36170151991 , 0.903082266861],\n",
    "       [0.59333290915 , 0.637178863968, 0.241229214635, 0.685595037901],\n",
    "       [0.013591747828, 0.917926970364, 0.458689093885, 0.157821121254]])\n",
    "\n",
    "A3 = np.array([[0.131923621844, 0.245316154195, 0.732362341613, 0.957047891764],\n",
    "       [0.91290446184 , 0.512312007959, 0.391938831444, 0.092509684772],\n",
    "       [0.648708523652, 0.608576675797, 0.576773587276, 0.065385122929],\n",
    "       [0.502955480393, 0.084082960221, 0.659487390444, 0.662958739412]])"
   ]
  },
  {
   "cell_type": "code",
   "execution_count": 30,
   "metadata": {},
   "outputs": [
    {
     "name": "stdout",
     "output_type": "stream",
     "text": [
      "When a condition number is very large, the matrix is said to be ill-conditioned, \n",
      "here we can clearly see that the condition number of A1 is very large\n"
     ]
    }
   ],
   "source": [
    "cond_num1 = la.cond(A1, 2)\n",
    "cond_num2 = la.cond(A2, 2)\n",
    "cond_num3 = la.cond(A3, 2)\n",
    "\n",
    "print(\"\"\"When a condition number is very large, the matrix is said to be ill-conditioned, \n",
    "here we can clearly see that the condition number of A1 is very large\"\"\")"
   ]
  },
  {
   "cell_type": "markdown",
   "metadata": {},
   "source": [
    "# Q3b\n",
    "\n",
    "With $b = [1,2,3,4]$ and $\\delta b = [0.1,0,0,0]$ for $A1$ and $A2$ calculate the percentage change in $x$ due to a small change in $b$, i.e., calculate \n",
    "\n",
    "$$100\\times\\frac{\\lVert \\delta x_i\\rVert_2}{\\lVert x_i \\rVert_2}\\quad\\text{and}\\quad 100\\times\\frac{\\lVert \\delta b\\rVert_2}{\\lVert b \\rVert_2}$$\n",
    "\n",
    "where $(x_i+\\delta x_i)  = A_i^{-1}(b+\\delta b)$ and $i\\in\\{1,2\\}$."
   ]
  },
  {
   "cell_type": "code",
   "execution_count": 38,
   "metadata": {},
   "outputs": [
    {
     "name": "stdout",
     "output_type": "stream",
     "text": [
      "6.146504725450837\n",
      "1.7996031019808383\n",
      "1.8257418583505536\n"
     ]
    }
   ],
   "source": [
    "b = np.array([[1, 2, 3, 4]])\n",
    "b_add_db = np.array([[1.1, 2, 3, 4]])\n",
    "db = np.array([[0.1, 0, 0, 0]])\n",
    "\n",
    "#Ax = b\n",
    "\n",
    "def inverse_difference(A, b):\n",
    "    x1 = b@la.inv(A)\n",
    "    x1_added = (b_add_db)@la.inv(A)\n",
    "    dx = x1_added - x1\n",
    "    return np.array(column(dx, 0))\n",
    "\n",
    "inverse_diff_x1 = inverse_difference(A1, b)\n",
    "inverse_diff_x2 = inverse_difference(A2, b)\n",
    "\n",
    "x1 = b@la.inv(A1)\n",
    "x2 = b@la.inv(A2)\n",
    "\n",
    "norm_inverse_diff_x1 = la.norm(inverse_diff_x1, 2)\n",
    "norm_inverse_diff_x2 = la.norm(inverse_diff_x2, 2)\n",
    "norm_x1 = la.norm(x1, 2)\n",
    "norm_x2 = la.norm(x2, 2)\n",
    "norm_b = la.norm(b, 2)\n",
    "norm_db = la.norm(db, 2)\n",
    "\n",
    "percentage_change_A1 = (norm_inverse_diff_x1/norm_x1)*100\n",
    "percentage_change_A2 = (norm_inverse_diff_x2/norm_x2)*100\n",
    "precentage_change_db = (norm_db/norm_b)*100\n",
    "\n",
    "print(percentage_change_A1)\n",
    "print(percentage_change_A2)\n",
    "print(precentage_change_db)"
   ]
  },
  {
   "cell_type": "markdown",
   "metadata": {},
   "source": [
    "Which system of equations is more sensitive to small changes in $b$? How could you have guessed this from the answer to the Q3a?"
   ]
  },
  {
   "cell_type": "code",
   "execution_count": 32,
   "metadata": {},
   "outputs": [
    {
     "data": {
      "text/plain": [
       "'We have clearly shown here that A1 is an ill conditioned matrix as a small change in b (1.826%) gives rise to\\na large change in A1 (7.275%). Additionally A2 is not an ill conditioned matrix as the change in b gives rise to \\na small change in A2 (1.266%)\\n\\nThis was guessed in question 3a using condtional numbers'"
      ]
     },
     "execution_count": 32,
     "metadata": {},
     "output_type": "execute_result"
    }
   ],
   "source": [
    "# Answer here\n",
    "\"\"\"We have clearly shown here that A1 is an ill conditioned matrix as a small change in b (1.826%) gives rise to\n",
    "a large change in A1 (7.275%). Additionally A2 is not an ill conditioned matrix as the change in b gives rise to \n",
    "a small change in A2 (1.266%)\n",
    "\n",
    "This was guessed in question 3a using condtional numbers\"\"\""
   ]
  },
  {
   "cell_type": "markdown",
   "metadata": {},
   "source": [
    "Commit your notebook to git and push it to GitHub.\n",
    "\n",
    "# Question 4: eigensystems\n",
    "\n",
    "In this question we look at finding eigenvalues and eigenvectors\n",
    "\n",
    "## Q4a\n",
    "\n",
    "You may use any of NumPy's functions for this sub-question.\n",
    "\n",
    "Find the eigenvalues and eigenvectors for the below matrix. Print out the eigenvalues sorted by descending value and explicitly show that eigenvalues/eigenvector pairs satisfy $Ax = \\lambda x$."
   ]
  },
  {
   "cell_type": "code",
   "execution_count": 33,
   "metadata": {},
   "outputs": [],
   "source": [
    "A = np.array([[1,4,5],[4,5,4],[6,7,9]])"
   ]
  },
  {
   "cell_type": "code",
   "execution_count": 34,
   "metadata": {},
   "outputs": [
    {
     "name": "stdout",
     "output_type": "stream",
     "text": [
      "[15.78569318  1.26595327 -2.05164645]\n"
     ]
    }
   ],
   "source": [
    "values = la.eig(A)\n",
    "\n",
    "values_list = list(values[0])\n",
    "sorted_eigenvalues = np.sort(values_list)[::-1]\n",
    "print(sorted_eigenvalues)\n",
    "\n",
    "\n",
    "\n",
    "#print(values)\n",
    "\n",
    "# print(A*values[1][0])\n",
    "# print(values[0][0]*values[1][0])"
   ]
  },
  {
   "cell_type": "markdown",
   "metadata": {},
   "source": [
    "# Q4b\n",
    "\n",
    "Without using NumPy's `la.eig()` (or similar functions), find the 4 eigenvalues and eigenvectors of the following matrix. Hint: Use the power method for the max eigenvalue (given below in `MaxEigenvalue`), the power method applied to the inverse for the smallest eigenvalue, and apply Hotelling's deflation twice to find the second and third eigenvalues/eigenvectors."
   ]
  },
  {
   "cell_type": "code",
   "execution_count": 35,
   "metadata": {},
   "outputs": [],
   "source": [
    "A = np.array([[2.65287619, 1.58615494, 1.47170961, 1.40586081],\n",
    "       [1.58615494, 1.17577323, 0.72084593, 0.79382861],\n",
    "       [1.47170961, 0.72084593, 1.18111969, 0.6654689 ],\n",
    "       [1.40586081, 0.79382861, 0.6654689 , 0.84502394]])"
   ]
  },
  {
   "cell_type": "code",
   "execution_count": 19,
   "metadata": {},
   "outputs": [],
   "source": [
    "def MaxEigenvalue(A, err):\n",
    "    (m,n) = A.shape\n",
    "    if(m != n):\n",
    "        print(\"Matrix must be square\")\n",
    "        return\n",
    "    \n",
    "    # Create a random initial vector\n",
    "    x = np.random.rand(m)\n",
    "    \n",
    "    lam = 0.1\n",
    "    lamprev = 1\n",
    "    while np.abs(1-lam/lamprev) > err:\n",
    "        Ax      = A@x\n",
    "        lamprev = lam\n",
    "        lam = la.norm(Ax,2)/la.norm(x,2)\n",
    "        x = Ax\n",
    "        \n",
    "    x = x/la.norm(x)\n",
    "    return (lam,x)"
   ]
  },
  {
   "cell_type": "code",
   "execution_count": null,
   "metadata": {},
   "outputs": [],
   "source": []
  },
  {
   "cell_type": "markdown",
   "metadata": {},
   "source": [
    "Check your answers against Numpy's results from `la.eig(A)`"
   ]
  },
  {
   "cell_type": "code",
   "execution_count": null,
   "metadata": {},
   "outputs": [],
   "source": []
  },
  {
   "cell_type": "code",
   "execution_count": null,
   "metadata": {},
   "outputs": [],
   "source": []
  },
  {
   "cell_type": "markdown",
   "metadata": {},
   "source": [
    "Commit your notebook to git and push it to GitHub. Upload your completed assignment to BrightSpace."
   ]
  },
  {
   "cell_type": "code",
   "execution_count": null,
   "metadata": {},
   "outputs": [],
   "source": []
  }
 ],
 "metadata": {
  "kernelspec": {
   "display_name": "Python 3",
   "language": "python",
   "name": "python3"
  },
  "language_info": {
   "codemirror_mode": {
    "name": "ipython",
    "version": 3
   },
   "file_extension": ".py",
   "mimetype": "text/x-python",
   "name": "python",
   "nbconvert_exporter": "python",
   "pygments_lexer": "ipython3",
   "version": "3.7.4"
  }
 },
 "nbformat": 4,
 "nbformat_minor": 2
}
