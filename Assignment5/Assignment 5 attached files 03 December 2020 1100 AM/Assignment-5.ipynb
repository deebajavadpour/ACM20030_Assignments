{
 "cells": [
  {
   "cell_type": "markdown",
   "metadata": {},
   "source": [
    "#  Assignment 5\n",
    "\n",
    "This assignment covers material on matrices, norms, condition numbers and eigensystems.\n",
    "\n",
    "The breakdown of the marks is as follows:\n",
    "\n",
    "Question 0 - [1 mark]  \n",
    "Question 1 - [7 marks]  \n",
    "Questino 2 - [6 marks]  \n",
    "Question 3 - [7 marks]  \n",
    "Question 4 - [9 marks]  "
   ]
  },
  {
   "cell_type": "markdown",
   "metadata": {},
   "source": [
    "# Question 0\n",
    "\n",
    "You should have saved this notebook to your ACM20030-Assignments folder. Now:\n",
    "- commit the notebook to your local repository\n",
    "- push the changes to the GitHub"
   ]
  },
  {
   "cell_type": "code",
   "execution_count": 1,
   "metadata": {},
   "outputs": [],
   "source": [
    "import numpy as np\n",
    "from numpy import linalg as la\n",
    "np.set_printoptions(linewidth=200)  # This stops line wrapping of larger matrices"
   ]
  },
  {
   "cell_type": "markdown",
   "metadata": {},
   "source": [
    "# Question 1 - practice manipulating arrays\n",
    "\n",
    "This questions asks you write a few functions for manipulating arrays of data"
   ]
  },
  {
   "cell_type": "markdown",
   "metadata": {},
   "source": [
    "## Q1 a\n",
    "\n",
    "Write a function that checks if a given $n\\times n$ matrix is symmetric. Use only loops and `.shape` function from numpy (do not use any other special numpy functions)."
   ]
  },
  {
   "cell_type": "code",
   "execution_count": 2,
   "metadata": {},
   "outputs": [],
   "source": [
    "A = np.array([[1,2], [3,4]])\n",
    "shape = A.shape\n",
    "R = shape[0]\n",
    "t_matrix = []\n",
    "\n",
    "def column(matrix, i):\n",
    "    return [row[i] for row in matrix]\n",
    "\n",
    "def flattened_elements(A):\n",
    "    print(A)\n",
    "    all_matrix_elements = []\n",
    "    for row in A:\n",
    "        for element in row:\n",
    "            all_matrix_elements.append(element)\n",
    "    return all_matrix_elements\n",
    "\n",
    "def transposefunction(A, R):\n",
    "    for i in range(0,R):\n",
    "        row_new = column(A, i)\n",
    "        t_matrix.append(row_new)\n",
    "    return t_matrix\n",
    "\n",
    "def check_symmetry(A, B):\n",
    "    A_shape = A.shape\n",
    "    if A_shape[0] != A_shape[1]:\n",
    "        return False\n",
    "\n",
    "def check_symmetric(A):\n",
    "    return all(flattened_elements(A == transposefunction(A, A.shape[0])))\n",
    "\n",
    "#final attempt: \n",
    "\n",
    "def is_symmetric(matrix):\n",
    "    for i in range(len(matrix)):\n",
    "        for j in range(len(matrix[i])):\n",
    "            if matrix[i][j] != matrix[j][i]:\n",
    "                return False\n",
    "    return True"
   ]
  },
  {
   "cell_type": "markdown",
   "metadata": {},
   "source": [
    "Test your function on the two matrices below"
   ]
  },
  {
   "cell_type": "code",
   "execution_count": 3,
   "metadata": {},
   "outputs": [],
   "source": [
    "A = np.random.rand(5,5)\n",
    "SymMatrix = (A + A.T)/2"
   ]
  },
  {
   "cell_type": "code",
   "execution_count": 4,
   "metadata": {},
   "outputs": [
    {
     "data": {
      "text/plain": [
       "True"
      ]
     },
     "execution_count": 4,
     "metadata": {},
     "output_type": "execute_result"
    }
   ],
   "source": [
    "is_symmetric(A)\n",
    "is_symmetric(SymMatrix)"
   ]
  },
  {
   "cell_type": "markdown",
   "metadata": {},
   "source": [
    "## Q1 b\n",
    "\n",
    "Write a function to transpose a general $n\\times n$ matrix. Do this by writing loops and not using any special functions like `np.transpose()`, `A.T`, or any functions from any other library (`np.zeroes`, `np.ones`, `np.shape`, etc are all ok to use)."
   ]
  },
  {
   "cell_type": "code",
   "execution_count": 5,
   "metadata": {},
   "outputs": [],
   "source": [
    "def transposefunction(A):\n",
    "    t_matrix = []\n",
    "    R = A.shape[0]\n",
    "    for i in range(0,R):\n",
    "        row_new = column(A, i)\n",
    "        t_matrix.append(row_new)\n",
    "    return np.array(t_matrix)"
   ]
  },
  {
   "cell_type": "markdown",
   "metadata": {},
   "source": [
    "Check your code by transposing a matrix by checking that $A^T \\neq A$ and $(A^T)^T - A = 0$"
   ]
  },
  {
   "cell_type": "code",
   "execution_count": 6,
   "metadata": {
    "scrolled": false
   },
   "outputs": [
    {
     "name": "stdout",
     "output_type": "stream",
     "text": [
      "[[0.13364438 0.85439359 0.43430576 0.42856668 0.0724342  0.13428854]\n",
      " [0.2686278  0.06380617 0.75261928 0.38696334 0.18845875 0.92440046]\n",
      " [0.01961581 0.22532679 0.03464556 0.05379165 0.58019023 0.76755151]\n",
      " [0.32614296 0.11020762 0.48062627 0.90168251 0.08754259 0.57072889]\n",
      " [0.78417912 0.97093079 0.72391008 0.39056465 0.67658947 0.1606641 ]\n",
      " [0.54093582 0.48331658 0.16009933 0.88880709 0.95286354 0.2884447 ]] [[0.13364438 0.2686278  0.01961581 0.32614296 0.78417912 0.54093582]\n",
      " [0.85439359 0.06380617 0.22532679 0.11020762 0.97093079 0.48331658]\n",
      " [0.43430576 0.75261928 0.03464556 0.48062627 0.72391008 0.16009933]\n",
      " [0.42856668 0.38696334 0.05379165 0.90168251 0.39056465 0.88880709]\n",
      " [0.0724342  0.18845875 0.58019023 0.08754259 0.67658947 0.95286354]\n",
      " [0.13428854 0.92440046 0.76755151 0.57072889 0.1606641  0.2884447 ]]\n"
     ]
    },
    {
     "data": {
      "text/plain": [
       "array([[ True,  True,  True,  True,  True,  True],\n",
       "       [ True,  True,  True,  True,  True,  True],\n",
       "       [ True,  True,  True,  True,  True,  True],\n",
       "       [ True,  True,  True,  True,  True,  True],\n",
       "       [ True,  True,  True,  True,  True,  True],\n",
       "       [ True,  True,  True,  True,  True,  True]])"
      ]
     },
     "execution_count": 6,
     "metadata": {},
     "output_type": "execute_result"
    }
   ],
   "source": [
    "A = np.random.rand(6,6);\n",
    "print(A, transposefunction(A))\n",
    "\n",
    "transposefunction(A) == A \n",
    "transposefunction(transposefunction(A)) - A == 0"
   ]
  },
  {
   "cell_type": "markdown",
   "metadata": {},
   "source": [
    "## Q1c\n",
    "\n",
    "Write a function that finds the maximum entry in a matrix (where the matrix does not need to be square). Do this by writing loops and not using any special functions like `np.max` or any functions from any other library."
   ]
  },
  {
   "cell_type": "code",
   "execution_count": 7,
   "metadata": {},
   "outputs": [],
   "source": [
    "def flattened_elements(A):\n",
    "    all_matrix_elements = []\n",
    "    for row in A:\n",
    "        for element in row:\n",
    "            all_matrix_elements.append(element)\n",
    "    return all_matrix_elements\n",
    "          \n",
    "def max_element_list(A):\n",
    "    len_list = len(A)\n",
    "    current_biggest = 0 \n",
    "    for i in range(0, len_list):\n",
    "        if A[i] > current_biggest:\n",
    "            current_biggest = A[i]\n",
    "    return current_biggest\n",
    "\n",
    "def max_entry(matrix):\n",
    "    list_flattened_elements = flattened_elements(matrix)\n",
    "    max_entry = max_element_list(list_flattened_elements)\n",
    "    return max_entry"
   ]
  },
  {
   "cell_type": "markdown",
   "metadata": {},
   "source": [
    "Check your result by comparing to `np.max(A)` for the below random matrix"
   ]
  },
  {
   "cell_type": "code",
   "execution_count": 8,
   "metadata": {},
   "outputs": [
    {
     "name": "stdout",
     "output_type": "stream",
     "text": [
      "[0.5681929855880562, 0.6463964949265748, 0.21301389920405378, 0.8435665169535759, 0.4229346956127523, 0.3257585823230461, 0.9627696928250067, 0.9582830951989048, 0.1632621029397816, 0.7360627888005938, 0.3216900148946107, 0.6575392804200131, 0.36772368080358486, 0.32504269864818935, 0.6197182224390392, 0.8504954939160676, 0.11968100059923514, 0.3104236273040025, 0.49618888598820865, 0.29646607912915945]\n",
      "[[0.56819299 0.64639649 0.2130139  0.84356652 0.4229347 ]\n",
      " [0.32575858 0.96276969 0.9582831  0.1632621  0.73606279]\n",
      " [0.32169001 0.65753928 0.36772368 0.3250427  0.61971822]\n",
      " [0.85049549 0.119681   0.31042363 0.49618889 0.29646608]]\n",
      "0.9627696928250067\n",
      "0.9627696928250067\n",
      "function works\n"
     ]
    }
   ],
   "source": [
    "A = np.random.rand(4,5)\n",
    "\n",
    "result_1 = np.max(A)\n",
    "result_2 = max_entry(A)\n",
    "\n",
    "print(flattened_elements(A))\n",
    "\n",
    "print(A)\n",
    "print(result_1)\n",
    "print(result_2)\n",
    "\n",
    "if result_1 == result_2:\n",
    "    print(\"function works\")\n",
    "else:\n",
    "    print(\"function does not work\")"
   ]
  },
  {
   "cell_type": "markdown",
   "metadata": {},
   "source": [
    "Commit your notebook to git and push it to GitHub.\n",
    "\n",
    "# Question 2:  matrix norms\n",
    "\n",
    "In the lectures we focused on the $L^2$-norm. We also briefly mentioned the $L^1$ and $L^\\infty$ norm. Let's look at calculating those as well for a general $m\\times n$ matrix."
   ]
  },
  {
   "cell_type": "markdown",
   "metadata": {},
   "source": [
    "# Q2a\n",
    "\n",
    "The $L^1$ norm is given by\n",
    "\n",
    "$$ \\lVert A \\rVert_1 = \\max_j \\sum^m_{i=1} |a_{ij}| $$\n",
    "\n",
    "i.e., it is the max of the sums of the absolute values of each column. Write a function that computes the $L^1$-norm using only loops. The function should use no special numpy functions except `np.abs()` (`np.shape`, `np.inf`, etc are ok to use)."
   ]
  },
  {
   "cell_type": "code",
   "execution_count": 9,
   "metadata": {},
   "outputs": [],
   "source": [
    "def one_norm(A):\n",
    "    norm = []\n",
    "    A_shape = A.shape\n",
    "    R = A_shape[1]\n",
    "    for i in range(0, R):\n",
    "        column_a = column(A, i)\n",
    "        sum_column = sum(np.abs(column_a))\n",
    "        norm.append(sum_column)\n",
    "        norm_max = max(norm)\n",
    "    return norm_max   "
   ]
  },
  {
   "cell_type": "markdown",
   "metadata": {},
   "source": [
    "Check your result against NumPy's `la.norm(A,1)` function for the following random matrix"
   ]
  },
  {
   "cell_type": "code",
   "execution_count": 10,
   "metadata": {},
   "outputs": [
    {
     "name": "stdout",
     "output_type": "stream",
     "text": [
      "function works\n"
     ]
    }
   ],
   "source": [
    "A = np.random.rand(3,4)\n",
    "\n",
    "result_1 = one_norm(A)\n",
    "result_2 = la.norm(A, 1)\n",
    "\n",
    "if result_1 == result_2:\n",
    "    print(\"function works\")\n",
    "else:\n",
    "    print(\"function does not work\")"
   ]
  },
  {
   "cell_type": "markdown",
   "metadata": {},
   "source": [
    "## Q2b\n",
    "\n",
    "The $L^\\infty$ norm is given by \n",
    "\n",
    "$$\\lVert A \\rVert_\\infty = \\max_i \\sum_{j=1}^n |a_{ij}|$$\n",
    "\n",
    "i.e., it is the max of the sums of the absolute values of each row. Write a function that computes the $L^\\infty$-norm using only loops and no special numpy functions."
   ]
  },
  {
   "cell_type": "code",
   "execution_count": 11,
   "metadata": {},
   "outputs": [],
   "source": [
    "def infinity_norm(A):\n",
    "    norm = []\n",
    "    A_shape = A.shape\n",
    "    R = A_shape[0]\n",
    "    for i in range(0, R):\n",
    "        row_a = A[i]\n",
    "        sum_row = sum(np.abs(row_a))\n",
    "        norm.append(sum_row)\n",
    "        norm_max = max(norm)\n",
    "    return norm_max  "
   ]
  },
  {
   "cell_type": "markdown",
   "metadata": {},
   "source": [
    "Check your result against NumPy's `la.norm(A,np.inf)` function for the following random matrix"
   ]
  },
  {
   "cell_type": "code",
   "execution_count": 12,
   "metadata": {},
   "outputs": [
    {
     "name": "stdout",
     "output_type": "stream",
     "text": [
      "function works\n"
     ]
    }
   ],
   "source": [
    "A = np.random.rand(3,4)\n",
    "\n",
    "result_1 = infinity_norm(A)\n",
    "result_2 = la.norm(A, np.inf)\n",
    "\n",
    "if result_1 == result_2:\n",
    "    print(\"function works\")\n",
    "else:\n",
    "    print(\"function does not work\")"
   ]
  },
  {
   "cell_type": "markdown",
   "metadata": {},
   "source": [
    "Commit your notebook to git and push it to GitHub.\n",
    "\n",
    "# Question 3: ill-conditions systems of equations\n",
    "\n",
    "In this question you can use any of NumPy's functions.\n",
    "\n",
    "## Q3a\n",
    "\n",
    "Which of the following three matrices, $A1, A2, A3$, are ill-conditioned. State the reason for your conclusion."
   ]
  },
  {
   "cell_type": "code",
   "execution_count": 13,
   "metadata": {},
   "outputs": [],
   "source": [
    "A1 = np.array([[ 2.852416473483e-01,  3.803483118694e-01,  2.697704226632e-01,  6.810611849029e-01],\n",
    "       [ 6.622827828376e-01,  6.447943415836e-01,  4.387842058829e-01,  1.530575702376e+00],\n",
    "       [ 3.672130860703e-01,  8.309522079704e-01,  9.975487474007e-01,  5.678296337101e-01],\n",
    "       [ 4.036490000599e-01,  6.865978225967e-06,  8.788095913773e-01, -7.150472427928e-02]])\n",
    "\n",
    "A2 = np.array([[0.988746460106, 0.351486109477, 0.024911477532, 0.384039749683],\n",
    "       [0.282104657306, 0.239884151775, 0.36170151991 , 0.903082266861],\n",
    "       [0.59333290915 , 0.637178863968, 0.241229214635, 0.685595037901],\n",
    "       [0.013591747828, 0.917926970364, 0.458689093885, 0.157821121254]])\n",
    "\n",
    "A3 = np.array([[0.131923621844, 0.245316154195, 0.732362341613, 0.957047891764],\n",
    "       [0.91290446184 , 0.512312007959, 0.391938831444, 0.092509684772],\n",
    "       [0.648708523652, 0.608576675797, 0.576773587276, 0.065385122929],\n",
    "       [0.502955480393, 0.084082960221, 0.659487390444, 0.662958739412]])"
   ]
  },
  {
   "cell_type": "code",
   "execution_count": 14,
   "metadata": {},
   "outputs": [
    {
     "name": "stdout",
     "output_type": "stream",
     "text": [
      "When a condition number is very large, the matrix is said to be ill-conditioned, \n",
      "here we can clearly see that the condition number of A1 is very large\n"
     ]
    }
   ],
   "source": [
    "cond_num1 = la.cond(A1, 2)\n",
    "cond_num2 = la.cond(A2, 2)\n",
    "cond_num3 = la.cond(A3, 2)\n",
    "\n",
    "print(\"\"\"When a condition number is very large, the matrix is said to be ill-conditioned, \n",
    "here we can clearly see that the condition number of A1 is very large\"\"\")"
   ]
  },
  {
   "cell_type": "markdown",
   "metadata": {},
   "source": [
    "# Q3b\n",
    "\n",
    "With $b = [1,2,3,4]$ and $\\delta b = [0.1,0,0,0]$ for $A1$ and $A2$ calculate the percentage change in $x$ due to a small change in $b$, i.e., calculate \n",
    "\n",
    "$$100\\times\\frac{\\lVert \\delta x_i\\rVert_2}{\\lVert x_i \\rVert_2}\\quad\\text{and}\\quad 100\\times\\frac{\\lVert \\delta b\\rVert_2}{\\lVert b \\rVert_2}$$\n",
    "\n",
    "where $(x_i+\\delta x_i)  = A_i^{-1}(b+\\delta b)$ and $i\\in\\{1,2\\}$."
   ]
  },
  {
   "cell_type": "code",
   "execution_count": 15,
   "metadata": {},
   "outputs": [
    {
     "name": "stdout",
     "output_type": "stream",
     "text": [
      "6.146504725450837\n",
      "1.7996031019808383\n",
      "1.8257418583505536\n"
     ]
    }
   ],
   "source": [
    "b = np.array([[1, 2, 3, 4]])\n",
    "b_add_db = np.array([[1.1, 2, 3, 4]])\n",
    "db = np.array([[0.1, 0, 0, 0]])\n",
    "\n",
    "#Ax = b\n",
    "\n",
    "def inverse_difference(A, b):\n",
    "    x1 = b@la.inv(A)\n",
    "    x1_added = (b_add_db)@la.inv(A)\n",
    "    dx = x1_added - x1\n",
    "    return np.array(column(dx, 0))\n",
    "\n",
    "inverse_diff_x1 = inverse_difference(A1, b)\n",
    "inverse_diff_x2 = inverse_difference(A2, b)\n",
    "\n",
    "x1 = b@la.inv(A1)\n",
    "x2 = b@la.inv(A2)\n",
    "\n",
    "norm_inverse_diff_x1 = la.norm(inverse_diff_x1, 2)\n",
    "norm_inverse_diff_x2 = la.norm(inverse_diff_x2, 2)\n",
    "norm_x1 = la.norm(x1, 2)\n",
    "norm_x2 = la.norm(x2, 2)\n",
    "norm_b = la.norm(b, 2)\n",
    "norm_db = la.norm(db, 2)\n",
    "\n",
    "percentage_change_A1 = (norm_inverse_diff_x1/norm_x1)*100\n",
    "percentage_change_A2 = (norm_inverse_diff_x2/norm_x2)*100\n",
    "precentage_change_db = (norm_db/norm_b)*100\n",
    "\n",
    "print(percentage_change_A1)\n",
    "print(percentage_change_A2)\n",
    "print(precentage_change_db)"
   ]
  },
  {
   "cell_type": "markdown",
   "metadata": {},
   "source": [
    "Which system of equations is more sensitive to small changes in $b$? How could you have guessed this from the answer to the Q3a?"
   ]
  },
  {
   "cell_type": "code",
   "execution_count": 16,
   "metadata": {},
   "outputs": [
    {
     "data": {
      "text/plain": [
       "'We have clearly shown here that A1 is an ill conditioned matrix as a small change in b (1.826%) gives rise to\\na large change in A1 (7.275%). Additionally A2 is not an ill conditioned matrix as the change in b gives rise to \\na small change in A2 (1.266%)\\n\\nThis was guessed in question 3a using condtional numbers'"
      ]
     },
     "execution_count": 16,
     "metadata": {},
     "output_type": "execute_result"
    }
   ],
   "source": [
    "# Answer here\n",
    "\"\"\"We have clearly shown here that A1 is an ill conditioned matrix as a small change in b (1.826%) gives rise to\n",
    "a large change in A1 (7.275%). Additionally A2 is not an ill conditioned matrix as the change in b gives rise to \n",
    "a small change in A2 (1.266%)\n",
    "\n",
    "This was guessed in question 3a using condtional numbers\"\"\""
   ]
  },
  {
   "cell_type": "markdown",
   "metadata": {},
   "source": [
    "Commit your notebook to git and push it to GitHub.\n",
    "\n",
    "# Question 4: eigensystems\n",
    "\n",
    "In this question we look at finding eigenvalues and eigenvectors\n",
    "\n",
    "## Q4a\n",
    "\n",
    "You may use any of NumPy's functions for this sub-question.\n",
    "\n",
    "Find the eigenvalues and eigenvectors for the below matrix. Print out the eigenvalues sorted by descending value and explicitly show that eigenvalues/eigenvector pairs satisfy $Ax = \\lambda x$."
   ]
  },
  {
   "cell_type": "code",
   "execution_count": 52,
   "metadata": {},
   "outputs": [],
   "source": [
    "A = np.array([[1,4,5],[4,5,4],[6,7,9]])"
   ]
  },
  {
   "cell_type": "code",
   "execution_count": 62,
   "metadata": {},
   "outputs": [
    {
     "name": "stdout",
     "output_type": "stream",
     "text": [
      "[ -6.1962015   -7.01266016 -12.71289871] [ -6.1962015   -7.01266016 -12.71289871]\n",
      "[ 1.83806756 -0.74382849 -0.52676368] [ 1.83806756 -0.74382849 -0.52676368]\n",
      "[ 0.12430099 -0.98053324  0.79103825] [ 0.12430099 -0.98053324  0.79103825]\n"
     ]
    }
   ],
   "source": [
    "values = la.eig(A)\n",
    "\n",
    "values_list = list(values[0])\n",
    "sorted_eigenvalues = np.sort(values_list)[::-1]\n",
    "\n",
    "# zip() takes 2 lists, the first element of the first list and the first element of second list and puts them in a tuple\n",
    "\n",
    "for eigenvalue, eigenvector in zip(values[0], np.transpose(np.array(values[1]))):\n",
    "    print(A@eigenvector, eigenvalue*eigenvector)"
   ]
  },
  {
   "cell_type": "markdown",
   "metadata": {},
   "source": [
    "# Q4b\n",
    "\n",
    "Without using NumPy's `la.eig()` (or similar functions), find the 4 eigenvalues and eigenvectors of the following matrix. Hint: Use the power method for the max eigenvalue (given below in `MaxEigenvalue`), the power method applied to the inverse for the smallest eigenvalue, and apply Hotelling's deflation twice to find the second and third eigenvalues/eigenvectors."
   ]
  },
  {
   "cell_type": "code",
   "execution_count": 19,
   "metadata": {},
   "outputs": [],
   "source": [
    "A = np.array([[2.65287619, 1.58615494, 1.47170961, 1.40586081],\n",
    "       [1.58615494, 1.17577323, 0.72084593, 0.79382861],\n",
    "       [1.47170961, 0.72084593, 1.18111969, 0.6654689 ],\n",
    "       [1.40586081, 0.79382861, 0.6654689 , 0.84502394]])"
   ]
  },
  {
   "cell_type": "code",
   "execution_count": 20,
   "metadata": {},
   "outputs": [],
   "source": [
    "def MaxEigenvalue(A, err):\n",
    "    (m,n) = A.shape\n",
    "    if(m != n):\n",
    "        print(\"Matrix must be square\")\n",
    "        return\n",
    "    \n",
    "    # Create a random initial vector\n",
    "    x = np.random.rand(m)\n",
    "    \n",
    "    lam = 0.1\n",
    "    lamprev = 1\n",
    "    while np.abs(1-lam/lamprev) > err:\n",
    "        Ax      = A@x\n",
    "        lamprev = lam\n",
    "        lam = la.norm(Ax,2)/la.norm(x,2)\n",
    "        x = Ax\n",
    "        \n",
    "    x = x/la.norm(x)\n",
    "    return (lam,x)"
   ]
  },
  {
   "cell_type": "code",
   "execution_count": null,
   "metadata": {},
   "outputs": [],
   "source": []
  },
  {
   "cell_type": "markdown",
   "metadata": {},
   "source": [
    "Check your answers against Numpy's results from `la.eig(A)`"
   ]
  },
  {
   "cell_type": "code",
   "execution_count": null,
   "metadata": {},
   "outputs": [],
   "source": []
  },
  {
   "cell_type": "code",
   "execution_count": null,
   "metadata": {},
   "outputs": [],
   "source": []
  },
  {
   "cell_type": "markdown",
   "metadata": {},
   "source": [
    "Commit your notebook to git and push it to GitHub. Upload your completed assignment to BrightSpace."
   ]
  },
  {
   "cell_type": "code",
   "execution_count": null,
   "metadata": {},
   "outputs": [],
   "source": []
  }
 ],
 "metadata": {
  "kernelspec": {
   "display_name": "Python 3",
   "language": "python",
   "name": "python3"
  },
  "language_info": {
   "codemirror_mode": {
    "name": "ipython",
    "version": 3
   },
   "file_extension": ".py",
   "mimetype": "text/x-python",
   "name": "python",
   "nbconvert_exporter": "python",
   "pygments_lexer": "ipython3",
   "version": "3.7.4"
  }
 },
 "nbformat": 4,
 "nbformat_minor": 2
}
