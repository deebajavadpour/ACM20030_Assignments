{
 "cells": [
  {
   "cell_type": "markdown",
   "metadata": {},
   "source": [
    "##ACM20030 Assignment 1 \n",
    "#Questioon 1"
   ]
  },
  {
   "cell_type": "code",
   "execution_count": null,
   "metadata": {},
   "outputs": [],
   "source": [
    "import numpy as np \n",
    "import matplotlib.pyplot as plt"
   ]
  },
  {
   "cell_type": "code",
   "execution_count": 19,
   "metadata": {},
   "outputs": [
    {
     "name": "stdout",
     "output_type": "stream",
     "text": [
      "7.810249675906654\n",
      "5.0990195135927845\n",
      "Sin(1) =  0.8414709848078965\n",
      "0.841\n"
     ]
    }
   ],
   "source": [
    "#Question 1\n",
    "\n",
    "def VectorLength(v):\n",
    "    squares = np.power(v,2)\n",
    "    sum_square = np.sum(squares)\n",
    "    result = np.sqrt(sum_square)\n",
    "    \n",
    "    return result \n",
    "\n",
    "v_1 = (5,6)\n",
    "Length_v_1 = VectorLength(v_1)\n",
    "print(Length_v_1)\n",
    "\n",
    "v_2 = (-1,5)\n",
    "Length_v_2 = VectorLength(v_2)\n",
    "print(Length_v_2)\n",
    "\n",
    "\n",
    "sin_one = np.sin(1)\n",
    "print(\"Sin(1) = \", np.sin(1))\n",
    "print(np.round_(sin_one, decimals = 3))"
   ]
  },
  {
   "cell_type": "code",
   "execution_count": null,
   "metadata": {},
   "outputs": [],
   "source": [
    "\n"
   ]
  },
  {
   "cell_type": "code",
   "execution_count": null,
   "metadata": {},
   "outputs": [],
   "source": []
  }
 ],
 "metadata": {
  "kernelspec": {
   "display_name": "Python 3",
   "language": "python",
   "name": "python3"
  },
  "language_info": {
   "codemirror_mode": {
    "name": "ipython",
    "version": 3
   },
   "file_extension": ".py",
   "mimetype": "text/x-python",
   "name": "python",
   "nbconvert_exporter": "python",
   "pygments_lexer": "ipython3",
   "version": "3.7.4"
  },
  "widgets": {
   "application/vnd.jupyter.widget-state+json": {
    "state": {},
    "version_major": 2,
    "version_minor": 0
   }
  }
 },
 "nbformat": 4,
 "nbformat_minor": 2
}
