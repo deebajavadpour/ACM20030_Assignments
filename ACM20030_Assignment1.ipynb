{
 "cells": [
  {
   "cell_type": "markdown",
   "metadata": {},
   "source": [
    "##ACM20030 Assignment 1 \n",
    "#Questioon 1"
   ]
  },
  {
   "cell_type": "code",
   "execution_count": 5,
   "metadata": {},
   "outputs": [],
   "source": [
    "import numpy as np \n",
    "import matplotlib.pyplot as plt"
   ]
  },
  {
   "cell_type": "code",
   "execution_count": 6,
   "metadata": {},
   "outputs": [
    {
     "name": "stdout",
     "output_type": "stream",
     "text": [
      "7.810249675906654\n",
      "5.0990195135927845\n",
      "Sin(1) =  0.8414709848078965\n",
      "0.841\n"
     ]
    }
   ],
   "source": [
    "#Question 1\n",
    "\n",
    "def VectorLength(v):\n",
    "    squares = np.power(v,2)\n",
    "    sum_square = np.sum(squares)\n",
    "    result = np.sqrt(sum_square)\n",
    "    \n",
    "    return result \n",
    "\n",
    "v_1 = (5,6)\n",
    "Length_v_1 = VectorLength(v_1)\n",
    "print(Length_v_1)\n",
    "\n",
    "v_2 = (-1,5)\n",
    "Length_v_2 = VectorLength(v_2)\n",
    "print(Length_v_2)\n",
    "\n",
    "\n",
    "sin_one = np.sin(1)\n",
    "print(\"Sin(1) = \", np.sin(1))\n",
    "print(np.round_(sin_one, decimals = 3))"
   ]
  },
  {
   "cell_type": "markdown",
   "metadata": {},
   "source": [
    "#Question 2\n",
    "\n",
    "The IsPrime function does not work correctly. The function is meant to return '0' when n is a composite numebr and return '1' when n is prime. We can see from the output that this is not the case. The function returns '1' when n equals 4 and 9, caregorizing them as prime numbers. The function also returns '0' for 8. We know this is obviously wrong as 4 and 9 are composite with factors such as 2 and 3 respectively. 8 is also a composite number with factors 2 and 4."
   ]
  },
  {
   "cell_type": "code",
   "execution_count": 13,
   "metadata": {
    "scrolled": true
   },
   "outputs": [
    {
     "name": "stdout",
     "output_type": "stream",
     "text": [
      "1\n",
      "1\n",
      "1\n",
      "0\n",
      "1\n",
      "0\n",
      "1\n",
      "0\n",
      "0\n",
      "0\n"
     ]
    }
   ],
   "source": [
    "#Question 2, Part a\n",
    "\n",
    "#Function to check if a number is prime \n",
    "def IsPrime(n):\n",
    "    if (n == 1):\n",
    "        return 1\n",
    "    i = 2\n",
    "    while i <= np.sqrt(n):\n",
    "        #for each i check if it divides n \n",
    "        #To fix the function I changed the '<' into '<=', this is because to check if n is prime, all numbers up to and including sqrt(n) need to be checked.\n",
    "        #The function would stop when 3<3 for the case where n=9 and return 0\n",
    "        if(n % i == 0):\n",
    "            return 0 \n",
    "        i += 1\n",
    "        #if no divisors are found, the number is prime \n",
    "    return 1\n",
    "\n",
    "#part a - checking if function work from 1-10\n",
    "for i in range(1,11):\n",
    "    print(IsPrime(i))\n",
    "\n",
    " \n"
   ]
  },
  {
   "cell_type": "code",
   "execution_count": null,
   "metadata": {},
   "outputs": [],
   "source": []
  },
  {
   "cell_type": "code",
   "execution_count": null,
   "metadata": {},
   "outputs": [],
   "source": []
  },
  {
   "cell_type": "code",
   "execution_count": null,
   "metadata": {},
   "outputs": [],
   "source": []
  }
 ],
 "metadata": {
  "kernelspec": {
   "display_name": "Python 3",
   "language": "python",
   "name": "python3"
  },
  "language_info": {
   "codemirror_mode": {
    "name": "ipython",
    "version": 3
   },
   "file_extension": ".py",
   "mimetype": "text/x-python",
   "name": "python",
   "nbconvert_exporter": "python",
   "pygments_lexer": "ipython3",
   "version": "3.7.4"
  },
  "widgets": {
   "application/vnd.jupyter.widget-state+json": {
    "state": {},
    "version_major": 2,
    "version_minor": 0
   }
  }
 },
 "nbformat": 4,
 "nbformat_minor": 2
}
