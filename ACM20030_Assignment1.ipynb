{
 "cells": [
  {
   "cell_type": "markdown",
   "metadata": {},
   "source": [
    "##ACM20030 Assignment 1 \n",
    "#Questioon 1"
   ]
  },
  {
   "cell_type": "code",
   "execution_count": 5,
   "metadata": {},
   "outputs": [],
   "source": [
    "import numpy as np \n",
    "import matplotlib.pyplot as plt"
   ]
  },
  {
   "cell_type": "code",
   "execution_count": 6,
   "metadata": {},
   "outputs": [
    {
     "name": "stdout",
     "output_type": "stream",
     "text": [
      "7.810249675906654\n",
      "5.0990195135927845\n",
      "Sin(1) =  0.8414709848078965\n",
      "0.841\n"
     ]
    }
   ],
   "source": [
    "# Question 1\n",
    "\n",
    "def VectorLength(v):\n",
    "    squares = np.power(v,2)\n",
    "    sum_square = np.sum(squares)\n",
    "    result = np.sqrt(sum_square)\n",
    "    \n",
    "    return result \n",
    "\n",
    "v_1 = (5,6)\n",
    "Length_v_1 = VectorLength(v_1)\n",
    "print(Length_v_1)\n",
    "\n",
    "v_2 = (-1,5)\n",
    "Length_v_2 = VectorLength(v_2)\n",
    "print(Length_v_2)\n",
    "\n",
    "\n",
    "sin_one = np.sin(1)\n",
    "print(\"Sin(1) = \", np.sin(1))\n",
    "print(np.round_(sin_one, decimals = 3))"
   ]
  },
  {
   "cell_type": "markdown",
   "metadata": {},
   "source": [
    "#Question 2\n"
   ]
  },
  {
   "cell_type": "code",
   "execution_count": 39,
   "metadata": {
    "scrolled": true
   },
   "outputs": [
    {
     "name": "stdout",
     "output_type": "stream",
     "text": [
      "0\n",
      "1\n",
      "1\n",
      "0\n",
      "1\n",
      "0\n",
      "1\n",
      "0\n",
      "0\n",
      "0\n",
      "There are 168 prime numbers less than 1000\n"
     ]
    },
    {
     "data": {
      "text/plain": [
       "Text(0, 0.5, 'Pi(x)')"
      ]
     },
     "execution_count": 39,
     "metadata": {},
     "output_type": "execute_result"
    },
    {
     "data": {
      "image/png": "[encoded data removed]",
      "text/plain": [
       "<Figure size 432x288 with 1 Axes>"
      ]
     },
     "metadata": {
      "needs_background": "light"
     },
     "output_type": "display_data"
    }
   ],
   "source": [
    "'''\n",
    "The IsPrime checks a if n is a prime number. \n",
    "It returns 0 if n is composite and 1 is n is prime.\n",
    "\n",
    "I fixed this function by changing the '<' which appears after the while loop to a '<='.\n",
    "This is because to check prime numbers, divisors of up to and including square root of\n",
    "n need to be checked.\n",
    "\n",
    "For example for n = 9 , the old function would compute 3<3 and return 1 instead of checking if 3 divides 3.\n",
    "I also moved the last return statement outside of the loop.\n",
    "''' \n",
    "def IsPrime(n):\n",
    "    if (n == 1):\n",
    "        return 0\n",
    "    i = 2\n",
    "    while i <= np.sqrt(n):\n",
    "        # Check each i check if it divides n. \n",
    "        if(n % i == 0):\n",
    "            return 0 \n",
    "        i += 1\n",
    "        # If no divisors are found, the number is prime. \n",
    "    return 1\n",
    "\n",
    "# Part a - Checking if function work from 1-10.\n",
    "for i in range(1,11):\n",
    "    print(IsPrime(i))\n",
    "    \n",
    "# Part e - Iotal prime numbers less than 1000.\n",
    "total_count = 0\n",
    "\n",
    "for i in range(1,1000):\n",
    "        if IsPrime(i):\n",
    "            total_count += 1\n",
    "            \n",
    "print('There are', total_count,'prime numbers less than 1000')\n",
    "\n",
    "# Part f - Function with number of primes less than or equal to x.\n",
    "def PrimeCount(x):\n",
    "    total_count = 0\n",
    "    for i in range(1,x):\n",
    "        if IsPrime(i):\n",
    "            total_count += 1\n",
    "    return total_count \n",
    "\n",
    "PrimeCount(1000)\n",
    "PrimeCount(10000)\n",
    "\n",
    "# Part g - Plot the counting function.\n",
    "x = np.arange(0,40,1)\n",
    "Pi = np.zeros(40)\n",
    "i = 0\n",
    "while i < np.size(Pi):\n",
    "    Pi[i] = PrimeCount(i)\n",
    "    i += 1\n",
    "\n",
    "plt.plot(x, Pi, 'ro')\n",
    "plt.grid(True)\n",
    "plt.xlabel('x')\n",
    "plt.ylabel('Pi(x)')\n",
    "\n",
    "\n",
    " \n"
   ]
  },
  {
   "cell_type": "code",
   "execution_count": null,
   "metadata": {},
   "outputs": [],
   "source": []
  },
  {
   "cell_type": "code",
   "execution_count": null,
   "metadata": {},
   "outputs": [],
   "source": []
  },
  {
   "cell_type": "code",
   "execution_count": null,
   "metadata": {},
   "outputs": [],
   "source": []
  }
 ],
 "metadata": {
  "kernelspec": {
   "display_name": "Python 3",
   "language": "python",
   "name": "python3"
  },
  "language_info": {
   "codemirror_mode": {
    "name": "ipython",
    "version": 3
   },
   "file_extension": ".py",
   "mimetype": "text/x-python",
   "name": "python",
   "nbconvert_exporter": "python",
   "pygments_lexer": "ipython3",
   "version": "3.7.4"
  },
  "widgets": {
   "application/vnd.jupyter.widget-state+json": {
    "state": {},
    "version_major": 2,
    "version_minor": 0
   }
  }
 },
 "nbformat": 4,
 "nbformat_minor": 2
}
